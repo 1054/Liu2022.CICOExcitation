{
 "cells": [
  {
   "cell_type": "code",
   "execution_count": 15,
   "metadata": {},
   "outputs": [],
   "source": [
    "import os, sys, re, datetime\n",
    "import numpy as np\n",
    "import astropy.units as u\n",
    "from astropy.table import Table\n",
    "from collections import OrderedDict\n",
    "sys.path.insert(1, os.path.join(os.path.dirname(os.getcwd()), 'utils'))\n",
    "dzliu_calc_path = os.path.expanduser('~/Cloud/GitLab/COExcitation/tmp/calc_dzliu')\n",
    "LTE_calc_path = os.path.expanduser('~/Cloud/GitLab/COExcitation/tmp/calc_LTE')"
   ]
  },
  {
   "cell_type": "code",
   "execution_count": 16,
   "metadata": {},
   "outputs": [
    {
     "name": "stdout",
     "output_type": "stream",
     "text": [
      "Loading \"/Users/dzliu/Cloud/GitLab/COExcitation/data/co.dat\"\n",
      "collision_partner: para-H2\n",
      "collision_partner: ortho-H2\n",
      "Species: CO\n",
      "  Levels: 41 levels\n",
      "          J=0 1 2 3 4 5 6 7 8 9 10 11 12 13 14 15 16 17 18 19 20 21 22 23 24 25 26 27 28 29 30 31 32\n",
      "  Transitions: 40 transitions\n",
      "  Collisions: 2 partners, 820 transitions\n",
      "Loading \"/Users/dzliu/Cloud/GitLab/COExcitation/data/catom.dat\"\n",
      "collision_partner: 5 C + H  ! Launay & Roueff 1977\n",
      "collision_partner: 4 C + e  !  from Johnson, Burke, & Kingston 1987, JPhysB, 20, 2553\n",
      "collision_partner: 7 C + H+  !  Roueff & Le Bourlot 1990, A&A, 236, 515\n",
      "collision_partner: 6 C + He  !  Staemmler, V., Flower, D.R. 1991, J. Phys. B, 24, 2343\n",
      "collision_partner: para-H2\n",
      "collision_partner: ortho-H2\n",
      "Species: CI\n",
      "  Levels: 3 levels\n",
      "  Transitions: 3 transitions\n",
      "  Collisions: 6 partners, 3 transitions\n"
     ]
    }
   ],
   "source": [
    "import moldata\n",
    "import importlib\n",
    "importlib.reload(moldata)\n",
    "\n",
    "CO = moldata.CO()\n",
    "print(CO)\n",
    "\n",
    "CI = moldata.CI()\n",
    "print(CI)"
   ]
  },
  {
   "cell_type": "code",
   "execution_count": 17,
   "metadata": {},
   "outputs": [],
   "source": [
    "# User defined global parameters\n",
    "\n",
    "list_of_N_CO = 10**np.arange(17.0, 20.0, 0.25)\n",
    "list_of_X_CICO = np.arange(0.05, 1.0+0.05, 0.05)\n",
    "list_of_n_H2 = [1e2, 1e3, 1e4, 1e5, 1e6]\n",
    "list_of_T_kin = [25., 50., 100.]\n",
    "line_width = 5. # 30.\n",
    "\n",
    "out_table_name = 'out_table_DZLIU_R_CI10CO21_sim_XCICO_dv_%gkms'%(line_width)"
   ]
  },
  {
   "cell_type": "code",
   "execution_count": 18,
   "metadata": {},
   "outputs": [
    {
     "data": {
      "text/plain": [
       "OrderedDict([('N_CO', <Quantity 1.e+17 1 / cm2>),\n",
       "             ('N_CI', <Quantity 5.e+15 1 / cm2>),\n",
       "             ('X_CICO', <Quantity 0.05>),\n",
       "             ('T_kin', <Quantity 25. K>),\n",
       "             ('n_H2', <Quantity 100. 1 / cm3>),\n",
       "             ('d_V', <Quantity 5. km / s>),\n",
       "             ('Flux_Kkms_CO10_NonLTE', 31.768380436118374),\n",
       "             ('Flux_Kkms_CO10_LTE', 51.6988261024052),\n",
       "             ('Flux_Kkms_CO21_NonLTE', 17.95619104197339),\n",
       "             ('Flux_Kkms_CO21_LTE', 86.29366022044138),\n",
       "             ('Flux_Kkms_CI10_NonLTE', 0.10418185141265669),\n",
       "             ('Flux_Kkms_CI10_LTE', 0.37771274690184037),\n",
       "             ('Flux_Kkms_CI21_NonLTE', 0.011021670954717743),\n",
       "             ('Flux_Kkms_CI21_LTE', 0.16573520032578606),\n",
       "             ('tau_0_CO10_NonLTE', 3.6929396444755334),\n",
       "             ('tau_0_CO10_LTE', 0.6012314075665105),\n",
       "             ('tau_0_CO21_NonLTE', 7.025990507009241),\n",
       "             ('tau_0_CO21_LTE', 1.736536335418027),\n",
       "             ('tau_0_CI10_NonLTE', 0.016406027526054263),\n",
       "             ('tau_0_CI10_LTE', 0.004736401501532414),\n",
       "             ('tau_0_CI21_NonLTE', 0.0010033175374288324),\n",
       "             ('tau_0_CI21_LTE', 0.002993818238991582),\n",
       "             ('Pop_u_CO10_NonLTE', 0.4908132074201353),\n",
       "             ('Pop_u_CO10_LTE', 0.2563781383318441),\n",
       "             ('Pop_u_CO21_NonLTE', 0.19949774533194353),\n",
       "             ('Pop_u_CO21_LTE', 0.2744252968422764),\n",
       "             ('Pop_u_CI10_NonLTE', 0.1259014512415894),\n",
       "             ('Pop_u_CI10_LTE', 0.4525132210401919),\n",
       "             ('Pop_u_CI21_NonLTE', 0.010595575750963222),\n",
       "             ('Pop_u_CI21_LTE', 0.1594870303099497),\n",
       "             ('Pop_l_CO10_NonLTE', 0.2935588992433995),\n",
       "             ('Pop_l_CO10_LTE', 0.10661680757122162),\n",
       "             ('Pop_l_CO21_NonLTE', 0.4908132074201353),\n",
       "             ('Pop_l_CO21_LTE', 0.2563781383318441),\n",
       "             ('Pop_l_CI10_NonLTE', 0.8635029730074472),\n",
       "             ('Pop_l_CI10_LTE', 0.38799974864985837),\n",
       "             ('Pop_l_CI21_NonLTE', 0.1259014512415894),\n",
       "             ('Pop_l_CI21_LTE', 0.4525132210401919),\n",
       "             ('T_ex_CO10_NonLTE', 9.458940274709496),\n",
       "             ('T_ex_CO10_LTE', 25.0),\n",
       "             ('T_ex_CO21_NonLTE', 7.845152080202257),\n",
       "             ('T_ex_CO21_LTE', 25.0),\n",
       "             ('T_ex_CI10_NonLTE', 7.81144097911134),\n",
       "             ('T_ex_CI10_LTE', 25.0),\n",
       "             ('T_ex_CI21_NonLTE', 13.007325947764171),\n",
       "             ('T_ex_CI21_LTE', 25.0),\n",
       "             ('R_CI10CO21_NonLTE', 0.0058020017257071396),\n",
       "             ('R_CI10CO21_LTE', 0.0043770625320209465)])"
      ]
     },
     "execution_count": 18,
     "metadata": {},
     "output_type": "execute_result"
    }
   ],
   "source": [
    "# Define function to compute non-LTE solutions for one (T_kin, N_CO/line_width, n_H2, X_CICO)\n",
    "\n",
    "def run_for_one_input_set(var_dict):\n",
    "    # \n",
    "    global dzliu_calc_path\n",
    "    global LTE_calc_path\n",
    "    # \n",
    "    # read input variables\n",
    "    CO = var_dict['CO'] # the moldata class object\n",
    "    CI = var_dict['CI'] # the moldata class object\n",
    "    N_CO = var_dict['N_CO'] # species_column_density of CO\n",
    "    N_CI = var_dict['N_CI'] # species_column_density of CI\n",
    "    X_CICO = N_CI/N_CO\n",
    "    d_V = var_dict['d_V']\n",
    "    T_kin = var_dict['T_kin']\n",
    "    n_H2 = var_dict['n_H2']\n",
    "    collision_partner_densities = var_dict['collision_partner_densities']\n",
    "    # \n",
    "    # prepare working directory for LTE calculation temporary files\n",
    "    T_kin_str = '%.0f'%(T_kin.to(u.K).value)\n",
    "    N_CO_str = re.sub(r'(.*)(e)(\\+0|\\+)([0-9]+.*)', r'\\1\\2\\4', '%.2e'%(N_CO.to(u.cm**(-2)).value))\n",
    "    n_H2_str = re.sub(r'(.*)(e)(\\+0|\\+)([0-9]+.*)', r'\\1\\2\\4', '%.1e'%(n_H2.to(u.cm**(-3)).value))\n",
    "    d_V_str = '%.1f'%(d_V.to(u.km/u.s).value)\n",
    "    calc_name = 'calc_T_kin_%s_N_CO_%s_n_H2_%s_d_V_%s'%(T_kin_str, N_CO_str, n_H2_str, d_V_str)\n",
    "    LTE_working_dir = os.path.join(LTE_calc_path, calc_name)\n",
    "    if not os.path.isdir(LTE_working_dir):\n",
    "        os.makedirs(LTE_working_dir)\n",
    "    if not os.path.isdir(LTE_working_dir):\n",
    "        raise Exception('Error! Could not create dir: ' + LTE_working_dir)\n",
    "    # \n",
    "    # prepare working directory for dzliu Non-LTE calculation temporary files\n",
    "    NonLTE_working_dir = os.path.join(dzliu_calc_path, calc_name)\n",
    "    if not os.path.isdir(NonLTE_working_dir):\n",
    "        os.makedirs(NonLTE_working_dir)\n",
    "    if not os.path.isdir(NonLTE_working_dir):\n",
    "        raise Exception('Error! Could not create dir: ' + NonLTE_working_dir)\n",
    "    \n",
    "    # prepare CI file name, which includes a suffix indicating the CI/CO intrinsic abundance ratio\n",
    "    X_CICO_str = '%.2f'%(X_CICO)\n",
    "    CI_filename = 'ci_X_CICO_%s'%(X_CICO_str)\n",
    "    \n",
    "    # check CI LTE table file, read it if exists, otherwise do the computation\n",
    "    out_table_file_CI_LTE = os.path.join(LTE_working_dir, CI_filename + '.csv')\n",
    "    did_CI_LTE = False\n",
    "    if os.path.isfile(out_table_file_CI_LTE):\n",
    "        out_table_CI_LTE = Table.read(out_table_file_CI_LTE, format='csv')\n",
    "    else:\n",
    "        # use dzliu ../utils/moldata.py class to compute LTE for CI\n",
    "        CI.evaluate_level_populations(species_column_density = N_CI, \n",
    "                                      line_width = d_V, \n",
    "                                      T_kin = T_kin, \n",
    "                                      collision_partner_densities = collision_partner_densities, \n",
    "                                      verbose = False, \n",
    "                                      silent = True, \n",
    "                                      LTE = True)\n",
    "        out_table_CI_LTE = CI.get_solved_transition_properties()\n",
    "        out_table_CI_LTE.write(out_table_file_CI_LTE, format='csv')\n",
    "        did_CI_LTE = True\n",
    "    \n",
    "    # check CO LTE table file, read it if exists, otherwise do the computation\n",
    "    out_table_file_CO_LTE = os.path.join(LTE_working_dir, 'co.csv')\n",
    "    did_CO_LTE = False\n",
    "    if os.path.isfile(out_table_file_CO_LTE):\n",
    "        out_table_CO_LTE = Table.read(out_table_file_CO_LTE, format='csv')\n",
    "    else:\n",
    "        # use dzliu ../utils/moldata.py class to compute LTE for CO\n",
    "        CO.evaluate_level_populations(species_column_density = N_CO, \n",
    "                                      line_width = d_V, \n",
    "                                      T_kin = T_kin, \n",
    "                                      collision_partner_densities = collision_partner_densities, \n",
    "                                      verbose = False, \n",
    "                                      silent = True, \n",
    "                                      LTE = True)\n",
    "        out_table_CO_LTE = CO.get_solved_transition_properties()\n",
    "        out_table_CO_LTE.write(out_table_file_CO_LTE, format='csv')\n",
    "        did_CO_LTE = True\n",
    "    \n",
    "    # now compute NonLTE\n",
    "    \n",
    "    # check CI NonLTE table file, read it if exists, otherwise do the computation\n",
    "    out_table_file_CI_NonLTE = os.path.join(NonLTE_working_dir, CI_filename + '.csv')\n",
    "    if os.path.isfile(out_table_file_CI_NonLTE):\n",
    "        out_table_CI_NonLTE = Table.read(out_table_file_CI_NonLTE, format='csv')\n",
    "    else:\n",
    "        # use dzliu ../utils/moldata.py class to compute LTE for CI\n",
    "        if os.path.isfile(out_table_file_CI_NonLTE + '.warning.not.converged'):\n",
    "            os.remove(out_table_file_CI_NonLTE + '.warning.not.converged')\n",
    "        if not did_CI_LTE:\n",
    "            CI.evaluate_level_populations(species_column_density = N_CI, \n",
    "                                          line_width = line_width, \n",
    "                                          T_kin = T_kin, \n",
    "                                          collision_partner_densities = collision_partner_densities, \n",
    "                                          verbose = False, \n",
    "                                          silent = True, \n",
    "                                          LTE = True)\n",
    "        #out_table_CI_LTE = CI.get_solved_transition_properties()\n",
    "        CI.solve_rate_matrix_iteratively(verbose = False, silent = True)\n",
    "        if (CI.converged_iterations<0):\n",
    "            os.system('touch \"%s\"'%(out_table_file_CI_NonLTE + '.warning.not.converged'))\n",
    "        out_table_CI_NonLTE = CI.get_solved_transition_properties()\n",
    "        out_table_CI_NonLTE.write(out_table_file_CI_NonLTE, format='csv')\n",
    "    \n",
    "    # check CO NonLTE table file, read it if exists, otherwise do the computation\n",
    "    out_table_file_CO_NonLTE = os.path.join(NonLTE_working_dir, 'co.csv')\n",
    "    if os.path.isfile(out_table_file_CO_NonLTE):\n",
    "        out_table_CO_NonLTE = Table.read(out_table_file_CO_NonLTE, format='csv')\n",
    "    else:\n",
    "        # use dzliu ../utils/moldata.py class to compute NonLTE for CO\n",
    "        if os.path.isfile(out_table_file_CO_NonLTE + '.warning.not.converged'):\n",
    "            os.remove(out_table_file_CO_NonLTE + '.warning.not.converged')\n",
    "        if not did_CO_LTE:\n",
    "            CO.evaluate_level_populations(species_column_density = N_CO, \n",
    "                                          line_width = line_width, \n",
    "                                          T_kin = T_kin, \n",
    "                                          collision_partner_densities = collision_partner_densities, \n",
    "                                          verbose = False, \n",
    "                                          silent = True, \n",
    "                                          LTE = True)\n",
    "        #out_table_CO_LTE = CO.get_solved_transition_properties()\n",
    "        CO.solve_rate_matrix_iteratively(verbose = False, silent = True)\n",
    "        if (CO.converged_iterations<0):\n",
    "            os.system('touch \"%s\"'%(out_table_file_CO_NonLTE + '.warning.not.converged'))\n",
    "        out_table_CO_NonLTE = CO.get_solved_transition_properties()\n",
    "        out_table_CO_NonLTE.write(out_table_file_CO_NonLTE, format='csv')\n",
    "    \n",
    "    # prepare output result dict\n",
    "    res_dict = OrderedDict()\n",
    "    res_dict['N_CO'] = N_CO\n",
    "    res_dict['N_CI'] = N_CI\n",
    "    res_dict['X_CICO'] = N_CI/N_CO\n",
    "    res_dict['T_kin'] = T_kin\n",
    "    res_dict['n_H2'] = n_H2\n",
    "    res_dict['d_V'] = d_V\n",
    "    \n",
    "    res_dict['Flux_Kkms_CO10_NonLTE'] = out_table_CO_NonLTE['Flux_Kkms'][0]\n",
    "    res_dict['Flux_Kkms_CO10_LTE'] = out_table_CO_LTE['Flux_Kkms'][0]\n",
    "    res_dict['Flux_Kkms_CO21_NonLTE'] = out_table_CO_NonLTE['Flux_Kkms'][1]\n",
    "    res_dict['Flux_Kkms_CO21_LTE'] = out_table_CO_LTE['Flux_Kkms'][1]\n",
    "    res_dict['Flux_Kkms_CI10_NonLTE'] = out_table_CI_NonLTE['Flux_Kkms'][0]\n",
    "    res_dict['Flux_Kkms_CI10_LTE'] = out_table_CI_LTE['Flux_Kkms'][0]\n",
    "    res_dict['Flux_Kkms_CI21_NonLTE'] = out_table_CI_NonLTE['Flux_Kkms'][1]\n",
    "    res_dict['Flux_Kkms_CI21_LTE'] = out_table_CI_LTE['Flux_Kkms'][1]\n",
    "    \n",
    "    res_dict['tau_0_CO10_NonLTE'] = out_table_CO_NonLTE['tau_0'][0]\n",
    "    res_dict['tau_0_CO10_LTE'] = out_table_CO_LTE['tau_0'][0]\n",
    "    res_dict['tau_0_CO21_NonLTE'] = out_table_CO_NonLTE['tau_0'][1]\n",
    "    res_dict['tau_0_CO21_LTE'] = out_table_CO_LTE['tau_0'][1]\n",
    "    res_dict['tau_0_CI10_NonLTE'] = out_table_CI_NonLTE['tau_0'][0]\n",
    "    res_dict['tau_0_CI10_LTE'] = out_table_CI_LTE['tau_0'][0]\n",
    "    res_dict['tau_0_CI21_NonLTE'] = out_table_CI_NonLTE['tau_0'][1]\n",
    "    res_dict['tau_0_CI21_LTE'] = out_table_CI_LTE['tau_0'][1]\n",
    "    \n",
    "    res_dict['Pop_u_CO10_NonLTE'] = out_table_CO_NonLTE['Pop_u'][0]\n",
    "    res_dict['Pop_u_CO10_LTE'] = out_table_CO_LTE['Pop_u'][0]\n",
    "    res_dict['Pop_u_CO21_NonLTE'] = out_table_CO_NonLTE['Pop_u'][1]\n",
    "    res_dict['Pop_u_CO21_LTE'] = out_table_CO_LTE['Pop_u'][1]\n",
    "    res_dict['Pop_u_CI10_NonLTE'] = out_table_CI_NonLTE['Pop_u'][0]\n",
    "    res_dict['Pop_u_CI10_LTE'] = out_table_CI_LTE['Pop_u'][0]\n",
    "    res_dict['Pop_u_CI21_NonLTE'] = out_table_CI_NonLTE['Pop_u'][1]\n",
    "    res_dict['Pop_u_CI21_LTE'] = out_table_CI_LTE['Pop_u'][1]\n",
    "    \n",
    "    res_dict['Pop_l_CO10_NonLTE'] = out_table_CO_NonLTE['Pop_l'][0]\n",
    "    res_dict['Pop_l_CO10_LTE'] = out_table_CO_LTE['Pop_l'][0]\n",
    "    res_dict['Pop_l_CO21_NonLTE'] = out_table_CO_NonLTE['Pop_l'][1]\n",
    "    res_dict['Pop_l_CO21_LTE'] = out_table_CO_LTE['Pop_l'][1]\n",
    "    res_dict['Pop_l_CI10_NonLTE'] = out_table_CI_NonLTE['Pop_l'][0]\n",
    "    res_dict['Pop_l_CI10_LTE'] = out_table_CI_LTE['Pop_l'][0]\n",
    "    res_dict['Pop_l_CI21_NonLTE'] = out_table_CI_NonLTE['Pop_l'][1]\n",
    "    res_dict['Pop_l_CI21_LTE'] = out_table_CI_LTE['Pop_l'][1]\n",
    "    \n",
    "    res_dict['T_ex_CO10_NonLTE'] = out_table_CO_NonLTE['T_ex'][0]\n",
    "    res_dict['T_ex_CO10_LTE'] = out_table_CO_LTE['T_ex'][0]\n",
    "    res_dict['T_ex_CO21_NonLTE'] = out_table_CO_NonLTE['T_ex'][1]\n",
    "    res_dict['T_ex_CO21_LTE'] = out_table_CO_LTE['T_ex'][1]\n",
    "    res_dict['T_ex_CI10_NonLTE'] = out_table_CI_NonLTE['T_ex'][0]\n",
    "    res_dict['T_ex_CI10_LTE'] = out_table_CI_LTE['T_ex'][0]\n",
    "    res_dict['T_ex_CI21_NonLTE'] = out_table_CI_NonLTE['T_ex'][1]\n",
    "    res_dict['T_ex_CI21_LTE'] = out_table_CI_LTE['T_ex'][1]\n",
    "    \n",
    "    try:\n",
    "        res_dict['R_CI10CO21_NonLTE'] = out_table_CI_NonLTE['Flux_Kkms'][0] / out_table_CO_NonLTE['Flux_Kkms'][1]\n",
    "    except:\n",
    "        res_dict['R_CI10CO21_NonLTE'] = np.nan\n",
    "    try:\n",
    "        res_dict['R_CI10CO21_LTE'] = out_table_CI_LTE['Flux_Kkms'][0] / out_table_CO_LTE['Flux_Kkms'][1]\n",
    "    except:\n",
    "        res_dict['R_CI10CO21_LTE'] = np.nan\n",
    "    \n",
    "    # return the result dict\n",
    "    return res_dict\n",
    "\n",
    "# test\n",
    "res_dict = None\n",
    "if True:\n",
    "    res_dict = run_for_one_input_set({\n",
    "                'CO': CO, \n",
    "                'CI': CI, \n",
    "                'T_kin': list_of_T_kin[0] * u.K, \n",
    "                'N_CO': list_of_N_CO[0] * u.cm**(-2), \n",
    "                'N_CI': list_of_N_CO[0] * list_of_X_CICO[0] * u.cm**(-2), \n",
    "                'X_CICO': list_of_X_CICO[0], \n",
    "                'n_H2': list_of_n_H2[0] * u.cm**(-3), \n",
    "                'd_V': line_width * u.km/u.s, \n",
    "                'collision_partner_densities': {'ortho-H2': 0.75 * list_of_n_H2[0] * u.cm**(-3), \n",
    "                                                'para-H2': 0.25 * list_of_n_H2[0] * u.cm**(-3)}, \n",
    "            }\n",
    "        )\n",
    "res_dict"
   ]
  },
  {
   "cell_type": "code",
   "execution_count": 19,
   "metadata": {},
   "outputs": [
    {
     "name": "stdout",
     "output_type": "stream",
     "text": [
      "datetime.datetime.now() 2021-09-29 13:40:15.437011\n",
      "Parameters: (T_kin, n_H2, N_CO, X_CICO) = ( 25.0,  2.00, 17.0, 0.05) | 01/03, 01/05, 01/12, 01/20 |\n",
      "Parameters: (T_kin, n_H2, N_CO, X_CICO) = ( 50.0,  2.00, 17.0, 0.05) | 02/03, 01/05, 01/12, 01/20 |\n"
     ]
    },
    {
     "name": "stderr",
     "output_type": "stream",
     "text": [
      "/Users/dzliu/Software/Miniconda2/miniconda2/envs/condapy37/lib/python3.7/site-packages/astropy/units/quantity.py:486: RuntimeWarning: divide by zero encountered in true_divide\n",
      "  result = super().__array_ufunc__(function, method, *arrays, **kwargs)\n"
     ]
    },
    {
     "name": "stdout",
     "output_type": "stream",
     "text": [
      "Error! Solving rate matrix has not converged with 100 iterations (max 100)\n",
      "Parameters: (T_kin, n_H2, N_CO, X_CICO) = (100.0,  2.00, 17.0, 0.05) | 03/03, 01/05, 01/12, 01/20 |\n"
     ]
    },
    {
     "name": "stderr",
     "output_type": "stream",
     "text": [
      "/Users/dzliu/Software/Miniconda2/miniconda2/envs/condapy37/lib/python3.7/site-packages/astropy/units/quantity.py:486: RuntimeWarning: divide by zero encountered in true_divide\n",
      "  result = super().__array_ufunc__(function, method, *arrays, **kwargs)\n"
     ]
    },
    {
     "name": "stdout",
     "output_type": "stream",
     "text": [
      "Parameters: (T_kin, n_H2, N_CO, X_CICO) = ( 25.0,  3.00, 17.0, 0.05) | 01/03, 02/05, 01/12, 01/20 |\n"
     ]
    },
    {
     "name": "stderr",
     "output_type": "stream",
     "text": [
      "/Users/dzliu/Software/Miniconda2/miniconda2/envs/condapy37/lib/python3.7/site-packages/astropy/units/quantity.py:486: RuntimeWarning: divide by zero encountered in true_divide\n",
      "  result = super().__array_ufunc__(function, method, *arrays, **kwargs)\n"
     ]
    },
    {
     "name": "stdout",
     "output_type": "stream",
     "text": [
      "Parameters: (T_kin, n_H2, N_CO, X_CICO) = ( 50.0,  3.00, 17.0, 0.05) | 02/03, 02/05, 01/12, 01/20 |\n"
     ]
    },
    {
     "name": "stderr",
     "output_type": "stream",
     "text": [
      "/Users/dzliu/Software/Miniconda2/miniconda2/envs/condapy37/lib/python3.7/site-packages/astropy/units/quantity.py:486: RuntimeWarning: divide by zero encountered in true_divide\n",
      "  result = super().__array_ufunc__(function, method, *arrays, **kwargs)\n"
     ]
    },
    {
     "name": "stdout",
     "output_type": "stream",
     "text": [
      "Parameters: (T_kin, n_H2, N_CO, X_CICO) = (100.0,  3.00, 17.0, 0.05) | 03/03, 02/05, 01/12, 01/20 |\n"
     ]
    },
    {
     "name": "stderr",
     "output_type": "stream",
     "text": [
      "/Users/dzliu/Software/Miniconda2/miniconda2/envs/condapy37/lib/python3.7/site-packages/astropy/units/quantity.py:486: RuntimeWarning: divide by zero encountered in true_divide\n",
      "  result = super().__array_ufunc__(function, method, *arrays, **kwargs)\n"
     ]
    },
    {
     "name": "stdout",
     "output_type": "stream",
     "text": [
      "Parameters: (T_kin, n_H2, N_CO, X_CICO) = ( 25.0,  4.00, 17.0, 0.05) | 01/03, 03/05, 01/12, 01/20 |\n"
     ]
    },
    {
     "name": "stderr",
     "output_type": "stream",
     "text": [
      "/Users/dzliu/Software/Miniconda2/miniconda2/envs/condapy37/lib/python3.7/site-packages/astropy/units/quantity.py:486: RuntimeWarning: divide by zero encountered in true_divide\n",
      "  result = super().__array_ufunc__(function, method, *arrays, **kwargs)\n"
     ]
    },
    {
     "name": "stdout",
     "output_type": "stream",
     "text": [
      "Parameters: (T_kin, n_H2, N_CO, X_CICO) = ( 50.0,  4.00, 17.0, 0.05) | 02/03, 03/05, 01/12, 01/20 |\n"
     ]
    },
    {
     "name": "stderr",
     "output_type": "stream",
     "text": [
      "/Users/dzliu/Software/Miniconda2/miniconda2/envs/condapy37/lib/python3.7/site-packages/astropy/units/quantity.py:486: RuntimeWarning: divide by zero encountered in true_divide\n",
      "  result = super().__array_ufunc__(function, method, *arrays, **kwargs)\n"
     ]
    },
    {
     "name": "stdout",
     "output_type": "stream",
     "text": [
      "Parameters: (T_kin, n_H2, N_CO, X_CICO) = (100.0,  4.00, 17.0, 0.05) | 03/03, 03/05, 01/12, 01/20 |\n"
     ]
    },
    {
     "name": "stderr",
     "output_type": "stream",
     "text": [
      "/Users/dzliu/Software/Miniconda2/miniconda2/envs/condapy37/lib/python3.7/site-packages/astropy/units/quantity.py:486: RuntimeWarning: divide by zero encountered in true_divide\n",
      "  result = super().__array_ufunc__(function, method, *arrays, **kwargs)\n"
     ]
    },
    {
     "name": "stdout",
     "output_type": "stream",
     "text": [
      "Parameters: (T_kin, n_H2, N_CO, X_CICO) = ( 25.0,  5.00, 17.0, 0.05) | 01/03, 04/05, 01/12, 01/20 |\n"
     ]
    },
    {
     "name": "stderr",
     "output_type": "stream",
     "text": [
      "/Users/dzliu/Software/Miniconda2/miniconda2/envs/condapy37/lib/python3.7/site-packages/astropy/units/quantity.py:486: RuntimeWarning: divide by zero encountered in true_divide\n",
      "  result = super().__array_ufunc__(function, method, *arrays, **kwargs)\n"
     ]
    },
    {
     "name": "stdout",
     "output_type": "stream",
     "text": [
      "Parameters: (T_kin, n_H2, N_CO, X_CICO) = ( 50.0,  5.00, 17.0, 0.05) | 02/03, 04/05, 01/12, 01/20 |\n"
     ]
    },
    {
     "name": "stderr",
     "output_type": "stream",
     "text": [
      "/Users/dzliu/Software/Miniconda2/miniconda2/envs/condapy37/lib/python3.7/site-packages/astropy/units/quantity.py:486: RuntimeWarning: divide by zero encountered in true_divide\n",
      "  result = super().__array_ufunc__(function, method, *arrays, **kwargs)\n"
     ]
    },
    {
     "name": "stdout",
     "output_type": "stream",
     "text": [
      "Parameters: (T_kin, n_H2, N_CO, X_CICO) = (100.0,  5.00, 17.0, 0.05) | 03/03, 04/05, 01/12, 01/20 |\n"
     ]
    },
    {
     "name": "stderr",
     "output_type": "stream",
     "text": [
      "/Users/dzliu/Software/Miniconda2/miniconda2/envs/condapy37/lib/python3.7/site-packages/astropy/units/quantity.py:486: RuntimeWarning: divide by zero encountered in true_divide\n",
      "  result = super().__array_ufunc__(function, method, *arrays, **kwargs)\n"
     ]
    },
    {
     "name": "stdout",
     "output_type": "stream",
     "text": [
      "Parameters: (T_kin, n_H2, N_CO, X_CICO) = ( 25.0,  6.00, 17.0, 0.05) | 01/03, 05/05, 01/12, 01/20 |\n"
     ]
    },
    {
     "name": "stderr",
     "output_type": "stream",
     "text": [
      "/Users/dzliu/Software/Miniconda2/miniconda2/envs/condapy37/lib/python3.7/site-packages/astropy/units/quantity.py:486: RuntimeWarning: divide by zero encountered in true_divide\n",
      "  result = super().__array_ufunc__(function, method, *arrays, **kwargs)\n"
     ]
    },
    {
     "name": "stdout",
     "output_type": "stream",
     "text": [
      "Parameters: (T_kin, n_H2, N_CO, X_CICO) = ( 50.0,  6.00, 17.0, 0.05) | 02/03, 05/05, 01/12, 01/20 |\n"
     ]
    },
    {
     "name": "stderr",
     "output_type": "stream",
     "text": [
      "/Users/dzliu/Software/Miniconda2/miniconda2/envs/condapy37/lib/python3.7/site-packages/astropy/units/quantity.py:486: RuntimeWarning: divide by zero encountered in true_divide\n",
      "  result = super().__array_ufunc__(function, method, *arrays, **kwargs)\n"
     ]
    },
    {
     "name": "stdout",
     "output_type": "stream",
     "text": [
      "Parameters: (T_kin, n_H2, N_CO, X_CICO) = (100.0,  6.00, 17.0, 0.05) | 03/03, 05/05, 01/12, 01/20 |\n"
     ]
    },
    {
     "name": "stderr",
     "output_type": "stream",
     "text": [
      "/Users/dzliu/Software/Miniconda2/miniconda2/envs/condapy37/lib/python3.7/site-packages/astropy/units/quantity.py:486: RuntimeWarning: divide by zero encountered in true_divide\n",
      "  result = super().__array_ufunc__(function, method, *arrays, **kwargs)\n"
     ]
    },
    {
     "name": "stdout",
     "output_type": "stream",
     "text": [
      "Parameters: (T_kin, n_H2, N_CO, X_CICO) = ( 25.0,  2.00, 17.2, 0.05) | 01/03, 01/05, 02/12, 01/20 |\n"
     ]
    },
    {
     "name": "stderr",
     "output_type": "stream",
     "text": [
      "/Users/dzliu/Software/Miniconda2/miniconda2/envs/condapy37/lib/python3.7/site-packages/astropy/units/quantity.py:486: RuntimeWarning: divide by zero encountered in true_divide\n",
      "  result = super().__array_ufunc__(function, method, *arrays, **kwargs)\n"
     ]
    },
    {
     "name": "stdout",
     "output_type": "stream",
     "text": [
      "Error! Solving rate matrix has not converged with 100 iterations (max 100)\n",
      "Parameters: (T_kin, n_H2, N_CO, X_CICO) = ( 50.0,  2.00, 17.2, 0.05) | 02/03, 01/05, 02/12, 01/20 |\n"
     ]
    },
    {
     "name": "stderr",
     "output_type": "stream",
     "text": [
      "/Users/dzliu/Software/Miniconda2/miniconda2/envs/condapy37/lib/python3.7/site-packages/astropy/units/quantity.py:486: RuntimeWarning: divide by zero encountered in true_divide\n",
      "  result = super().__array_ufunc__(function, method, *arrays, **kwargs)\n"
     ]
    },
    {
     "name": "stdout",
     "output_type": "stream",
     "text": [
      "Error! Solving rate matrix has not converged with 100 iterations (max 100)\n",
      "Parameters: (T_kin, n_H2, N_CO, X_CICO) = (100.0,  2.00, 17.2, 0.05) | 03/03, 01/05, 02/12, 01/20 |\n"
     ]
    },
    {
     "name": "stderr",
     "output_type": "stream",
     "text": [
      "/Users/dzliu/Software/Miniconda2/miniconda2/envs/condapy37/lib/python3.7/site-packages/astropy/units/quantity.py:486: RuntimeWarning: divide by zero encountered in true_divide\n",
      "  result = super().__array_ufunc__(function, method, *arrays, **kwargs)\n"
     ]
    },
    {
     "name": "stdout",
     "output_type": "stream",
     "text": [
      "Error! Solving rate matrix has not converged with 100 iterations (max 100)\n",
      "Parameters: (T_kin, n_H2, N_CO, X_CICO) = ( 25.0,  3.00, 17.2, 0.05) | 01/03, 02/05, 02/12, 01/20 |\n"
     ]
    },
    {
     "name": "stderr",
     "output_type": "stream",
     "text": [
      "/Users/dzliu/Software/Miniconda2/miniconda2/envs/condapy37/lib/python3.7/site-packages/astropy/units/quantity.py:486: RuntimeWarning: divide by zero encountered in true_divide\n",
      "  result = super().__array_ufunc__(function, method, *arrays, **kwargs)\n"
     ]
    },
    {
     "name": "stdout",
     "output_type": "stream",
     "text": [
      "Parameters: (T_kin, n_H2, N_CO, X_CICO) = ( 50.0,  3.00, 17.2, 0.05) | 02/03, 02/05, 02/12, 01/20 |\n"
     ]
    },
    {
     "name": "stderr",
     "output_type": "stream",
     "text": [
      "/Users/dzliu/Software/Miniconda2/miniconda2/envs/condapy37/lib/python3.7/site-packages/astropy/units/quantity.py:486: RuntimeWarning: divide by zero encountered in true_divide\n",
      "  result = super().__array_ufunc__(function, method, *arrays, **kwargs)\n"
     ]
    },
    {
     "name": "stdout",
     "output_type": "stream",
     "text": [
      "Parameters: (T_kin, n_H2, N_CO, X_CICO) = (100.0,  3.00, 17.2, 0.05) | 03/03, 02/05, 02/12, 01/20 |\n"
     ]
    },
    {
     "name": "stderr",
     "output_type": "stream",
     "text": [
      "/Users/dzliu/Software/Miniconda2/miniconda2/envs/condapy37/lib/python3.7/site-packages/astropy/units/quantity.py:486: RuntimeWarning: divide by zero encountered in true_divide\n",
      "  result = super().__array_ufunc__(function, method, *arrays, **kwargs)\n"
     ]
    },
    {
     "name": "stdout",
     "output_type": "stream",
     "text": [
      "Parameters: (T_kin, n_H2, N_CO, X_CICO) = ( 25.0,  4.00, 17.2, 0.05) | 01/03, 03/05, 02/12, 01/20 |\n"
     ]
    },
    {
     "name": "stderr",
     "output_type": "stream",
     "text": [
      "/Users/dzliu/Software/Miniconda2/miniconda2/envs/condapy37/lib/python3.7/site-packages/astropy/units/quantity.py:486: RuntimeWarning: divide by zero encountered in true_divide\n",
      "  result = super().__array_ufunc__(function, method, *arrays, **kwargs)\n"
     ]
    },
    {
     "name": "stdout",
     "output_type": "stream",
     "text": [
      "Parameters: (T_kin, n_H2, N_CO, X_CICO) = ( 50.0,  4.00, 17.2, 0.05) | 02/03, 03/05, 02/12, 01/20 |\n"
     ]
    },
    {
     "name": "stderr",
     "output_type": "stream",
     "text": [
      "/Users/dzliu/Software/Miniconda2/miniconda2/envs/condapy37/lib/python3.7/site-packages/astropy/units/quantity.py:486: RuntimeWarning: divide by zero encountered in true_divide\n",
      "  result = super().__array_ufunc__(function, method, *arrays, **kwargs)\n"
     ]
    },
    {
     "name": "stdout",
     "output_type": "stream",
     "text": [
      "Parameters: (T_kin, n_H2, N_CO, X_CICO) = (100.0,  4.00, 17.2, 0.05) | 03/03, 03/05, 02/12, 01/20 |\n"
     ]
    },
    {
     "name": "stderr",
     "output_type": "stream",
     "text": [
      "/Users/dzliu/Software/Miniconda2/miniconda2/envs/condapy37/lib/python3.7/site-packages/astropy/units/quantity.py:486: RuntimeWarning: divide by zero encountered in true_divide\n",
      "  result = super().__array_ufunc__(function, method, *arrays, **kwargs)\n"
     ]
    },
    {
     "name": "stdout",
     "output_type": "stream",
     "text": [
      "Parameters: (T_kin, n_H2, N_CO, X_CICO) = ( 25.0,  5.00, 17.2, 0.05) | 01/03, 04/05, 02/12, 01/20 |\n"
     ]
    },
    {
     "name": "stderr",
     "output_type": "stream",
     "text": [
      "/Users/dzliu/Software/Miniconda2/miniconda2/envs/condapy37/lib/python3.7/site-packages/astropy/units/quantity.py:486: RuntimeWarning: divide by zero encountered in true_divide\n",
      "  result = super().__array_ufunc__(function, method, *arrays, **kwargs)\n"
     ]
    },
    {
     "name": "stdout",
     "output_type": "stream",
     "text": [
      "Parameters: (T_kin, n_H2, N_CO, X_CICO) = ( 50.0,  5.00, 17.2, 0.05) | 02/03, 04/05, 02/12, 01/20 |\n"
     ]
    },
    {
     "name": "stderr",
     "output_type": "stream",
     "text": [
      "/Users/dzliu/Software/Miniconda2/miniconda2/envs/condapy37/lib/python3.7/site-packages/astropy/units/quantity.py:486: RuntimeWarning: divide by zero encountered in true_divide\n",
      "  result = super().__array_ufunc__(function, method, *arrays, **kwargs)\n"
     ]
    },
    {
     "name": "stdout",
     "output_type": "stream",
     "text": [
      "Parameters: (T_kin, n_H2, N_CO, X_CICO) = (100.0,  5.00, 17.2, 0.05) | 03/03, 04/05, 02/12, 01/20 |\n"
     ]
    },
    {
     "name": "stderr",
     "output_type": "stream",
     "text": [
      "/Users/dzliu/Software/Miniconda2/miniconda2/envs/condapy37/lib/python3.7/site-packages/astropy/units/quantity.py:486: RuntimeWarning: divide by zero encountered in true_divide\n",
      "  result = super().__array_ufunc__(function, method, *arrays, **kwargs)\n"
     ]
    },
    {
     "name": "stdout",
     "output_type": "stream",
     "text": [
      "Parameters: (T_kin, n_H2, N_CO, X_CICO) = ( 25.0,  6.00, 17.2, 0.05) | 01/03, 05/05, 02/12, 01/20 |\n"
     ]
    },
    {
     "name": "stderr",
     "output_type": "stream",
     "text": [
      "/Users/dzliu/Software/Miniconda2/miniconda2/envs/condapy37/lib/python3.7/site-packages/astropy/units/quantity.py:486: RuntimeWarning: divide by zero encountered in true_divide\n",
      "  result = super().__array_ufunc__(function, method, *arrays, **kwargs)\n"
     ]
    },
    {
     "name": "stdout",
     "output_type": "stream",
     "text": [
      "Parameters: (T_kin, n_H2, N_CO, X_CICO) = ( 50.0,  6.00, 17.2, 0.05) | 02/03, 05/05, 02/12, 01/20 |\n"
     ]
    },
    {
     "name": "stderr",
     "output_type": "stream",
     "text": [
      "/Users/dzliu/Software/Miniconda2/miniconda2/envs/condapy37/lib/python3.7/site-packages/astropy/units/quantity.py:486: RuntimeWarning: divide by zero encountered in true_divide\n",
      "  result = super().__array_ufunc__(function, method, *arrays, **kwargs)\n"
     ]
    },
    {
     "name": "stdout",
     "output_type": "stream",
     "text": [
      "Parameters: (T_kin, n_H2, N_CO, X_CICO) = (100.0,  6.00, 17.2, 0.05) | 03/03, 05/05, 02/12, 01/20 |\n"
     ]
    },
    {
     "name": "stderr",
     "output_type": "stream",
     "text": [
      "/Users/dzliu/Software/Miniconda2/miniconda2/envs/condapy37/lib/python3.7/site-packages/astropy/units/quantity.py:486: RuntimeWarning: divide by zero encountered in true_divide\n",
      "  result = super().__array_ufunc__(function, method, *arrays, **kwargs)\n"
     ]
    },
    {
     "name": "stdout",
     "output_type": "stream",
     "text": [
      "Parameters: (T_kin, n_H2, N_CO, X_CICO) = ( 25.0,  2.00, 17.5, 0.05) | 01/03, 01/05, 03/12, 01/20 |\n"
     ]
    },
    {
     "name": "stderr",
     "output_type": "stream",
     "text": [
      "/Users/dzliu/Software/Miniconda2/miniconda2/envs/condapy37/lib/python3.7/site-packages/astropy/units/quantity.py:486: RuntimeWarning: divide by zero encountered in true_divide\n",
      "  result = super().__array_ufunc__(function, method, *arrays, **kwargs)\n"
     ]
    },
    {
     "name": "stdout",
     "output_type": "stream",
     "text": [
      "Error! Solving rate matrix has not converged with 100 iterations (max 100)\n",
      "Parameters: (T_kin, n_H2, N_CO, X_CICO) = ( 50.0,  2.00, 17.5, 0.05) | 02/03, 01/05, 03/12, 01/20 |\n"
     ]
    },
    {
     "name": "stderr",
     "output_type": "stream",
     "text": [
      "/Users/dzliu/Software/Miniconda2/miniconda2/envs/condapy37/lib/python3.7/site-packages/astropy/units/quantity.py:486: RuntimeWarning: divide by zero encountered in true_divide\n",
      "  result = super().__array_ufunc__(function, method, *arrays, **kwargs)\n"
     ]
    },
    {
     "name": "stdout",
     "output_type": "stream",
     "text": [
      "Error! Solving rate matrix has not converged with 100 iterations (max 100)\n",
      "Parameters: (T_kin, n_H2, N_CO, X_CICO) = (100.0,  2.00, 17.5, 0.05) | 03/03, 01/05, 03/12, 01/20 |\n"
     ]
    },
    {
     "name": "stderr",
     "output_type": "stream",
     "text": [
      "/Users/dzliu/Software/Miniconda2/miniconda2/envs/condapy37/lib/python3.7/site-packages/astropy/units/quantity.py:486: RuntimeWarning: divide by zero encountered in true_divide\n",
      "  result = super().__array_ufunc__(function, method, *arrays, **kwargs)\n"
     ]
    },
    {
     "name": "stdout",
     "output_type": "stream",
     "text": [
      "Error! Solving rate matrix has not converged with 100 iterations (max 100)\n",
      "Parameters: (T_kin, n_H2, N_CO, X_CICO) = ( 25.0,  3.00, 17.5, 0.05) | 01/03, 02/05, 03/12, 01/20 |\n"
     ]
    },
    {
     "name": "stderr",
     "output_type": "stream",
     "text": [
      "/Users/dzliu/Software/Miniconda2/miniconda2/envs/condapy37/lib/python3.7/site-packages/astropy/units/quantity.py:486: RuntimeWarning: divide by zero encountered in true_divide\n",
      "  result = super().__array_ufunc__(function, method, *arrays, **kwargs)\n"
     ]
    },
    {
     "name": "stdout",
     "output_type": "stream",
     "text": [
      "Error! Solving rate matrix has not converged with 100 iterations (max 100)\n",
      "Parameters: (T_kin, n_H2, N_CO, X_CICO) = ( 50.0,  3.00, 17.5, 0.05) | 02/03, 02/05, 03/12, 01/20 |\n"
     ]
    },
    {
     "name": "stderr",
     "output_type": "stream",
     "text": [
      "/Users/dzliu/Software/Miniconda2/miniconda2/envs/condapy37/lib/python3.7/site-packages/astropy/units/quantity.py:486: RuntimeWarning: divide by zero encountered in true_divide\n",
      "  result = super().__array_ufunc__(function, method, *arrays, **kwargs)\n"
     ]
    },
    {
     "name": "stdout",
     "output_type": "stream",
     "text": [
      "Error! Solving rate matrix has not converged with 100 iterations (max 100)\n",
      "Parameters: (T_kin, n_H2, N_CO, X_CICO) = (100.0,  3.00, 17.5, 0.05) | 03/03, 02/05, 03/12, 01/20 |\n"
     ]
    },
    {
     "name": "stderr",
     "output_type": "stream",
     "text": [
      "/Users/dzliu/Software/Miniconda2/miniconda2/envs/condapy37/lib/python3.7/site-packages/astropy/units/quantity.py:486: RuntimeWarning: divide by zero encountered in true_divide\n",
      "  result = super().__array_ufunc__(function, method, *arrays, **kwargs)\n"
     ]
    },
    {
     "name": "stdout",
     "output_type": "stream",
     "text": [
      "Parameters: (T_kin, n_H2, N_CO, X_CICO) = ( 25.0,  4.00, 17.5, 0.05) | 01/03, 03/05, 03/12, 01/20 |\n"
     ]
    },
    {
     "name": "stderr",
     "output_type": "stream",
     "text": [
      "/Users/dzliu/Software/Miniconda2/miniconda2/envs/condapy37/lib/python3.7/site-packages/astropy/units/quantity.py:486: RuntimeWarning: divide by zero encountered in true_divide\n",
      "  result = super().__array_ufunc__(function, method, *arrays, **kwargs)\n"
     ]
    },
    {
     "name": "stdout",
     "output_type": "stream",
     "text": [
      "Parameters: (T_kin, n_H2, N_CO, X_CICO) = ( 50.0,  4.00, 17.5, 0.05) | 02/03, 03/05, 03/12, 01/20 |\n"
     ]
    },
    {
     "name": "stderr",
     "output_type": "stream",
     "text": [
      "/Users/dzliu/Software/Miniconda2/miniconda2/envs/condapy37/lib/python3.7/site-packages/astropy/units/quantity.py:486: RuntimeWarning: divide by zero encountered in true_divide\n",
      "  result = super().__array_ufunc__(function, method, *arrays, **kwargs)\n"
     ]
    },
    {
     "name": "stdout",
     "output_type": "stream",
     "text": [
      "Parameters: (T_kin, n_H2, N_CO, X_CICO) = (100.0,  4.00, 17.5, 0.05) | 03/03, 03/05, 03/12, 01/20 |\n"
     ]
    },
    {
     "name": "stderr",
     "output_type": "stream",
     "text": [
      "/Users/dzliu/Software/Miniconda2/miniconda2/envs/condapy37/lib/python3.7/site-packages/astropy/units/quantity.py:486: RuntimeWarning: divide by zero encountered in true_divide\n",
      "  result = super().__array_ufunc__(function, method, *arrays, **kwargs)\n"
     ]
    },
    {
     "name": "stdout",
     "output_type": "stream",
     "text": [
      "Parameters: (T_kin, n_H2, N_CO, X_CICO) = ( 25.0,  5.00, 17.5, 0.05) | 01/03, 04/05, 03/12, 01/20 |\n"
     ]
    },
    {
     "name": "stderr",
     "output_type": "stream",
     "text": [
      "/Users/dzliu/Software/Miniconda2/miniconda2/envs/condapy37/lib/python3.7/site-packages/astropy/units/quantity.py:486: RuntimeWarning: divide by zero encountered in true_divide\n",
      "  result = super().__array_ufunc__(function, method, *arrays, **kwargs)\n"
     ]
    },
    {
     "name": "stdout",
     "output_type": "stream",
     "text": [
      "Parameters: (T_kin, n_H2, N_CO, X_CICO) = ( 50.0,  5.00, 17.5, 0.05) | 02/03, 04/05, 03/12, 01/20 |\n"
     ]
    },
    {
     "name": "stderr",
     "output_type": "stream",
     "text": [
      "/Users/dzliu/Software/Miniconda2/miniconda2/envs/condapy37/lib/python3.7/site-packages/astropy/units/quantity.py:486: RuntimeWarning: divide by zero encountered in true_divide\n",
      "  result = super().__array_ufunc__(function, method, *arrays, **kwargs)\n"
     ]
    },
    {
     "name": "stdout",
     "output_type": "stream",
     "text": [
      "Parameters: (T_kin, n_H2, N_CO, X_CICO) = (100.0,  5.00, 17.5, 0.05) | 03/03, 04/05, 03/12, 01/20 |\n"
     ]
    },
    {
     "name": "stderr",
     "output_type": "stream",
     "text": [
      "/Users/dzliu/Software/Miniconda2/miniconda2/envs/condapy37/lib/python3.7/site-packages/astropy/units/quantity.py:486: RuntimeWarning: divide by zero encountered in true_divide\n",
      "  result = super().__array_ufunc__(function, method, *arrays, **kwargs)\n"
     ]
    },
    {
     "name": "stdout",
     "output_type": "stream",
     "text": [
      "Parameters: (T_kin, n_H2, N_CO, X_CICO) = ( 25.0,  6.00, 17.5, 0.05) | 01/03, 05/05, 03/12, 01/20 |\n"
     ]
    },
    {
     "name": "stderr",
     "output_type": "stream",
     "text": [
      "/Users/dzliu/Software/Miniconda2/miniconda2/envs/condapy37/lib/python3.7/site-packages/astropy/units/quantity.py:486: RuntimeWarning: divide by zero encountered in true_divide\n",
      "  result = super().__array_ufunc__(function, method, *arrays, **kwargs)\n"
     ]
    },
    {
     "name": "stdout",
     "output_type": "stream",
     "text": [
      "Parameters: (T_kin, n_H2, N_CO, X_CICO) = ( 50.0,  6.00, 17.5, 0.05) | 02/03, 05/05, 03/12, 01/20 |\n"
     ]
    },
    {
     "name": "stderr",
     "output_type": "stream",
     "text": [
      "/Users/dzliu/Software/Miniconda2/miniconda2/envs/condapy37/lib/python3.7/site-packages/astropy/units/quantity.py:486: RuntimeWarning: divide by zero encountered in true_divide\n",
      "  result = super().__array_ufunc__(function, method, *arrays, **kwargs)\n"
     ]
    },
    {
     "name": "stdout",
     "output_type": "stream",
     "text": [
      "Parameters: (T_kin, n_H2, N_CO, X_CICO) = (100.0,  6.00, 17.5, 0.05) | 03/03, 05/05, 03/12, 01/20 |\n"
     ]
    },
    {
     "name": "stderr",
     "output_type": "stream",
     "text": [
      "/Users/dzliu/Software/Miniconda2/miniconda2/envs/condapy37/lib/python3.7/site-packages/astropy/units/quantity.py:486: RuntimeWarning: divide by zero encountered in true_divide\n",
      "  result = super().__array_ufunc__(function, method, *arrays, **kwargs)\n"
     ]
    },
    {
     "name": "stdout",
     "output_type": "stream",
     "text": [
      "Parameters: (T_kin, n_H2, N_CO, X_CICO) = ( 25.0,  2.00, 17.8, 0.05) | 01/03, 01/05, 04/12, 01/20 |\n"
     ]
    },
    {
     "name": "stderr",
     "output_type": "stream",
     "text": [
      "/Users/dzliu/Software/Miniconda2/miniconda2/envs/condapy37/lib/python3.7/site-packages/astropy/units/quantity.py:486: RuntimeWarning: divide by zero encountered in true_divide\n",
      "  result = super().__array_ufunc__(function, method, *arrays, **kwargs)\n"
     ]
    },
    {
     "name": "stdout",
     "output_type": "stream",
     "text": [
      "Error! Solving rate matrix has not converged with 100 iterations (max 100)\n",
      "Parameters: (T_kin, n_H2, N_CO, X_CICO) = ( 50.0,  2.00, 17.8, 0.05) | 02/03, 01/05, 04/12, 01/20 |\n"
     ]
    },
    {
     "name": "stderr",
     "output_type": "stream",
     "text": [
      "/Users/dzliu/Software/Miniconda2/miniconda2/envs/condapy37/lib/python3.7/site-packages/astropy/units/quantity.py:486: RuntimeWarning: divide by zero encountered in true_divide\n",
      "  result = super().__array_ufunc__(function, method, *arrays, **kwargs)\n"
     ]
    },
    {
     "name": "stdout",
     "output_type": "stream",
     "text": [
      "Error! Solving rate matrix has not converged with 100 iterations (max 100)\n",
      "Parameters: (T_kin, n_H2, N_CO, X_CICO) = (100.0,  2.00, 17.8, 0.05) | 03/03, 01/05, 04/12, 01/20 |\n"
     ]
    },
    {
     "name": "stderr",
     "output_type": "stream",
     "text": [
      "/Users/dzliu/Software/Miniconda2/miniconda2/envs/condapy37/lib/python3.7/site-packages/astropy/units/quantity.py:486: RuntimeWarning: divide by zero encountered in true_divide\n",
      "  result = super().__array_ufunc__(function, method, *arrays, **kwargs)\n"
     ]
    },
    {
     "name": "stdout",
     "output_type": "stream",
     "text": [
      "Error! Solving rate matrix has not converged with 100 iterations (max 100)\n",
      "Parameters: (T_kin, n_H2, N_CO, X_CICO) = ( 25.0,  3.00, 17.8, 0.05) | 01/03, 02/05, 04/12, 01/20 |\n"
     ]
    },
    {
     "name": "stderr",
     "output_type": "stream",
     "text": [
      "/Users/dzliu/Software/Miniconda2/miniconda2/envs/condapy37/lib/python3.7/site-packages/astropy/units/quantity.py:486: RuntimeWarning: divide by zero encountered in true_divide\n",
      "  result = super().__array_ufunc__(function, method, *arrays, **kwargs)\n"
     ]
    },
    {
     "name": "stdout",
     "output_type": "stream",
     "text": [
      "Error! Solving rate matrix has not converged with 100 iterations (max 100)\n",
      "Parameters: (T_kin, n_H2, N_CO, X_CICO) = ( 50.0,  3.00, 17.8, 0.05) | 02/03, 02/05, 04/12, 01/20 |\n"
     ]
    },
    {
     "name": "stderr",
     "output_type": "stream",
     "text": [
      "/Users/dzliu/Software/Miniconda2/miniconda2/envs/condapy37/lib/python3.7/site-packages/astropy/units/quantity.py:486: RuntimeWarning: divide by zero encountered in true_divide\n",
      "  result = super().__array_ufunc__(function, method, *arrays, **kwargs)\n"
     ]
    },
    {
     "name": "stdout",
     "output_type": "stream",
     "text": [
      "Error! Solving rate matrix has not converged with 100 iterations (max 100)\n",
      "Parameters: (T_kin, n_H2, N_CO, X_CICO) = (100.0,  3.00, 17.8, 0.05) | 03/03, 02/05, 04/12, 01/20 |\n"
     ]
    },
    {
     "name": "stderr",
     "output_type": "stream",
     "text": [
      "/Users/dzliu/Software/Miniconda2/miniconda2/envs/condapy37/lib/python3.7/site-packages/astropy/units/quantity.py:486: RuntimeWarning: divide by zero encountered in true_divide\n",
      "  result = super().__array_ufunc__(function, method, *arrays, **kwargs)\n"
     ]
    },
    {
     "name": "stdout",
     "output_type": "stream",
     "text": [
      "Error! Solving rate matrix has not converged with 100 iterations (max 100)\n",
      "Parameters: (T_kin, n_H2, N_CO, X_CICO) = ( 25.0,  4.00, 17.8, 0.05) | 01/03, 03/05, 04/12, 01/20 |\n"
     ]
    },
    {
     "name": "stderr",
     "output_type": "stream",
     "text": [
      "/Users/dzliu/Software/Miniconda2/miniconda2/envs/condapy37/lib/python3.7/site-packages/astropy/units/quantity.py:486: RuntimeWarning: divide by zero encountered in true_divide\n",
      "  result = super().__array_ufunc__(function, method, *arrays, **kwargs)\n"
     ]
    },
    {
     "name": "stdout",
     "output_type": "stream",
     "text": [
      "Parameters: (T_kin, n_H2, N_CO, X_CICO) = ( 50.0,  4.00, 17.8, 0.05) | 02/03, 03/05, 04/12, 01/20 |\n"
     ]
    },
    {
     "name": "stderr",
     "output_type": "stream",
     "text": [
      "/Users/dzliu/Software/Miniconda2/miniconda2/envs/condapy37/lib/python3.7/site-packages/astropy/units/quantity.py:486: RuntimeWarning: divide by zero encountered in true_divide\n",
      "  result = super().__array_ufunc__(function, method, *arrays, **kwargs)\n"
     ]
    },
    {
     "name": "stdout",
     "output_type": "stream",
     "text": [
      "Parameters: (T_kin, n_H2, N_CO, X_CICO) = (100.0,  4.00, 17.8, 0.05) | 03/03, 03/05, 04/12, 01/20 |\n"
     ]
    },
    {
     "name": "stderr",
     "output_type": "stream",
     "text": [
      "/Users/dzliu/Software/Miniconda2/miniconda2/envs/condapy37/lib/python3.7/site-packages/astropy/units/quantity.py:486: RuntimeWarning: divide by zero encountered in true_divide\n",
      "  result = super().__array_ufunc__(function, method, *arrays, **kwargs)\n"
     ]
    },
    {
     "name": "stdout",
     "output_type": "stream",
     "text": [
      "Parameters: (T_kin, n_H2, N_CO, X_CICO) = ( 25.0,  5.00, 17.8, 0.05) | 01/03, 04/05, 04/12, 01/20 |\n"
     ]
    },
    {
     "name": "stderr",
     "output_type": "stream",
     "text": [
      "/Users/dzliu/Software/Miniconda2/miniconda2/envs/condapy37/lib/python3.7/site-packages/astropy/units/quantity.py:486: RuntimeWarning: divide by zero encountered in true_divide\n",
      "  result = super().__array_ufunc__(function, method, *arrays, **kwargs)\n"
     ]
    },
    {
     "name": "stdout",
     "output_type": "stream",
     "text": [
      "Parameters: (T_kin, n_H2, N_CO, X_CICO) = ( 50.0,  5.00, 17.8, 0.05) | 02/03, 04/05, 04/12, 01/20 |\n"
     ]
    },
    {
     "name": "stderr",
     "output_type": "stream",
     "text": [
      "/Users/dzliu/Software/Miniconda2/miniconda2/envs/condapy37/lib/python3.7/site-packages/astropy/units/quantity.py:486: RuntimeWarning: divide by zero encountered in true_divide\n",
      "  result = super().__array_ufunc__(function, method, *arrays, **kwargs)\n"
     ]
    },
    {
     "name": "stdout",
     "output_type": "stream",
     "text": [
      "Parameters: (T_kin, n_H2, N_CO, X_CICO) = (100.0,  5.00, 17.8, 0.05) | 03/03, 04/05, 04/12, 01/20 |\n"
     ]
    },
    {
     "name": "stderr",
     "output_type": "stream",
     "text": [
      "/Users/dzliu/Software/Miniconda2/miniconda2/envs/condapy37/lib/python3.7/site-packages/astropy/units/quantity.py:486: RuntimeWarning: divide by zero encountered in true_divide\n",
      "  result = super().__array_ufunc__(function, method, *arrays, **kwargs)\n"
     ]
    },
    {
     "name": "stdout",
     "output_type": "stream",
     "text": [
      "Parameters: (T_kin, n_H2, N_CO, X_CICO) = ( 25.0,  6.00, 17.8, 0.05) | 01/03, 05/05, 04/12, 01/20 |\n"
     ]
    },
    {
     "name": "stderr",
     "output_type": "stream",
     "text": [
      "/Users/dzliu/Software/Miniconda2/miniconda2/envs/condapy37/lib/python3.7/site-packages/astropy/units/quantity.py:486: RuntimeWarning: divide by zero encountered in true_divide\n",
      "  result = super().__array_ufunc__(function, method, *arrays, **kwargs)\n"
     ]
    },
    {
     "name": "stdout",
     "output_type": "stream",
     "text": [
      "Parameters: (T_kin, n_H2, N_CO, X_CICO) = ( 50.0,  6.00, 17.8, 0.05) | 02/03, 05/05, 04/12, 01/20 |\n"
     ]
    },
    {
     "name": "stderr",
     "output_type": "stream",
     "text": [
      "/Users/dzliu/Software/Miniconda2/miniconda2/envs/condapy37/lib/python3.7/site-packages/astropy/units/quantity.py:486: RuntimeWarning: divide by zero encountered in true_divide\n",
      "  result = super().__array_ufunc__(function, method, *arrays, **kwargs)\n"
     ]
    },
    {
     "name": "stdout",
     "output_type": "stream",
     "text": [
      "Parameters: (T_kin, n_H2, N_CO, X_CICO) = (100.0,  6.00, 17.8, 0.05) | 03/03, 05/05, 04/12, 01/20 |\n"
     ]
    },
    {
     "name": "stderr",
     "output_type": "stream",
     "text": [
      "/Users/dzliu/Software/Miniconda2/miniconda2/envs/condapy37/lib/python3.7/site-packages/astropy/units/quantity.py:486: RuntimeWarning: divide by zero encountered in true_divide\n",
      "  result = super().__array_ufunc__(function, method, *arrays, **kwargs)\n"
     ]
    },
    {
     "name": "stdout",
     "output_type": "stream",
     "text": [
      "Parameters: (T_kin, n_H2, N_CO, X_CICO) = ( 25.0,  2.00, 18.0, 0.05) | 01/03, 01/05, 05/12, 01/20 |\n"
     ]
    },
    {
     "name": "stderr",
     "output_type": "stream",
     "text": [
      "/Users/dzliu/Software/Miniconda2/miniconda2/envs/condapy37/lib/python3.7/site-packages/astropy/units/quantity.py:486: RuntimeWarning: divide by zero encountered in true_divide\n",
      "  result = super().__array_ufunc__(function, method, *arrays, **kwargs)\n"
     ]
    },
    {
     "name": "stdout",
     "output_type": "stream",
     "text": [
      "Error! Solving rate matrix has not converged with 100 iterations (max 100)\n",
      "Parameters: (T_kin, n_H2, N_CO, X_CICO) = ( 50.0,  2.00, 18.0, 0.05) | 02/03, 01/05, 05/12, 01/20 |\n"
     ]
    },
    {
     "name": "stderr",
     "output_type": "stream",
     "text": [
      "/Users/dzliu/Software/Miniconda2/miniconda2/envs/condapy37/lib/python3.7/site-packages/astropy/units/quantity.py:486: RuntimeWarning: divide by zero encountered in true_divide\n",
      "  result = super().__array_ufunc__(function, method, *arrays, **kwargs)\n"
     ]
    },
    {
     "name": "stdout",
     "output_type": "stream",
     "text": [
      "Error! Solving rate matrix has not converged with 100 iterations (max 100)\n",
      "Parameters: (T_kin, n_H2, N_CO, X_CICO) = (100.0,  2.00, 18.0, 0.05) | 03/03, 01/05, 05/12, 01/20 |\n"
     ]
    },
    {
     "name": "stderr",
     "output_type": "stream",
     "text": [
      "/Users/dzliu/Software/Miniconda2/miniconda2/envs/condapy37/lib/python3.7/site-packages/astropy/units/quantity.py:486: RuntimeWarning: divide by zero encountered in true_divide\n",
      "  result = super().__array_ufunc__(function, method, *arrays, **kwargs)\n"
     ]
    },
    {
     "name": "stdout",
     "output_type": "stream",
     "text": [
      "Error! Solving rate matrix has not converged with 100 iterations (max 100)\n",
      "Parameters: (T_kin, n_H2, N_CO, X_CICO) = ( 25.0,  3.00, 18.0, 0.05) | 01/03, 02/05, 05/12, 01/20 |\n"
     ]
    },
    {
     "name": "stderr",
     "output_type": "stream",
     "text": [
      "/Users/dzliu/Software/Miniconda2/miniconda2/envs/condapy37/lib/python3.7/site-packages/astropy/units/quantity.py:486: RuntimeWarning: divide by zero encountered in true_divide\n",
      "  result = super().__array_ufunc__(function, method, *arrays, **kwargs)\n"
     ]
    },
    {
     "name": "stdout",
     "output_type": "stream",
     "text": [
      "Error! Solving rate matrix has not converged with 100 iterations (max 100)\n",
      "Parameters: (T_kin, n_H2, N_CO, X_CICO) = ( 50.0,  3.00, 18.0, 0.05) | 02/03, 02/05, 05/12, 01/20 |\n"
     ]
    },
    {
     "name": "stderr",
     "output_type": "stream",
     "text": [
      "/Users/dzliu/Software/Miniconda2/miniconda2/envs/condapy37/lib/python3.7/site-packages/astropy/units/quantity.py:486: RuntimeWarning: divide by zero encountered in true_divide\n",
      "  result = super().__array_ufunc__(function, method, *arrays, **kwargs)\n"
     ]
    },
    {
     "name": "stdout",
     "output_type": "stream",
     "text": [
      "Error! Solving rate matrix has not converged with 100 iterations (max 100)\n",
      "Parameters: (T_kin, n_H2, N_CO, X_CICO) = (100.0,  3.00, 18.0, 0.05) | 03/03, 02/05, 05/12, 01/20 |\n"
     ]
    },
    {
     "name": "stderr",
     "output_type": "stream",
     "text": [
      "/Users/dzliu/Software/Miniconda2/miniconda2/envs/condapy37/lib/python3.7/site-packages/astropy/units/quantity.py:486: RuntimeWarning: divide by zero encountered in true_divide\n",
      "  result = super().__array_ufunc__(function, method, *arrays, **kwargs)\n"
     ]
    },
    {
     "name": "stdout",
     "output_type": "stream",
     "text": [
      "Error! Solving rate matrix has not converged with 100 iterations (max 100)\n",
      "Parameters: (T_kin, n_H2, N_CO, X_CICO) = ( 25.0,  4.00, 18.0, 0.05) | 01/03, 03/05, 05/12, 01/20 |\n"
     ]
    },
    {
     "name": "stderr",
     "output_type": "stream",
     "text": [
      "/Users/dzliu/Software/Miniconda2/miniconda2/envs/condapy37/lib/python3.7/site-packages/astropy/units/quantity.py:486: RuntimeWarning: divide by zero encountered in true_divide\n",
      "  result = super().__array_ufunc__(function, method, *arrays, **kwargs)\n"
     ]
    },
    {
     "name": "stdout",
     "output_type": "stream",
     "text": [
      "Parameters: (T_kin, n_H2, N_CO, X_CICO) = ( 50.0,  4.00, 18.0, 0.05) | 02/03, 03/05, 05/12, 01/20 |\n"
     ]
    },
    {
     "name": "stderr",
     "output_type": "stream",
     "text": [
      "/Users/dzliu/Software/Miniconda2/miniconda2/envs/condapy37/lib/python3.7/site-packages/astropy/units/quantity.py:486: RuntimeWarning: divide by zero encountered in true_divide\n",
      "  result = super().__array_ufunc__(function, method, *arrays, **kwargs)\n"
     ]
    },
    {
     "name": "stdout",
     "output_type": "stream",
     "text": [
      "Parameters: (T_kin, n_H2, N_CO, X_CICO) = (100.0,  4.00, 18.0, 0.05) | 03/03, 03/05, 05/12, 01/20 |\n"
     ]
    },
    {
     "name": "stderr",
     "output_type": "stream",
     "text": [
      "/Users/dzliu/Software/Miniconda2/miniconda2/envs/condapy37/lib/python3.7/site-packages/astropy/units/quantity.py:486: RuntimeWarning: divide by zero encountered in true_divide\n",
      "  result = super().__array_ufunc__(function, method, *arrays, **kwargs)\n"
     ]
    },
    {
     "name": "stdout",
     "output_type": "stream",
     "text": [
      "Parameters: (T_kin, n_H2, N_CO, X_CICO) = ( 25.0,  5.00, 18.0, 0.05) | 01/03, 04/05, 05/12, 01/20 |\n"
     ]
    },
    {
     "name": "stderr",
     "output_type": "stream",
     "text": [
      "/Users/dzliu/Software/Miniconda2/miniconda2/envs/condapy37/lib/python3.7/site-packages/astropy/units/quantity.py:486: RuntimeWarning: divide by zero encountered in true_divide\n",
      "  result = super().__array_ufunc__(function, method, *arrays, **kwargs)\n"
     ]
    },
    {
     "name": "stdout",
     "output_type": "stream",
     "text": [
      "Parameters: (T_kin, n_H2, N_CO, X_CICO) = ( 50.0,  5.00, 18.0, 0.05) | 02/03, 04/05, 05/12, 01/20 |\n"
     ]
    },
    {
     "name": "stderr",
     "output_type": "stream",
     "text": [
      "/Users/dzliu/Software/Miniconda2/miniconda2/envs/condapy37/lib/python3.7/site-packages/astropy/units/quantity.py:486: RuntimeWarning: divide by zero encountered in true_divide\n",
      "  result = super().__array_ufunc__(function, method, *arrays, **kwargs)\n"
     ]
    },
    {
     "name": "stdout",
     "output_type": "stream",
     "text": [
      "Parameters: (T_kin, n_H2, N_CO, X_CICO) = (100.0,  5.00, 18.0, 0.05) | 03/03, 04/05, 05/12, 01/20 |\n"
     ]
    },
    {
     "name": "stderr",
     "output_type": "stream",
     "text": [
      "/Users/dzliu/Software/Miniconda2/miniconda2/envs/condapy37/lib/python3.7/site-packages/astropy/units/quantity.py:486: RuntimeWarning: divide by zero encountered in true_divide\n",
      "  result = super().__array_ufunc__(function, method, *arrays, **kwargs)\n"
     ]
    },
    {
     "name": "stdout",
     "output_type": "stream",
     "text": [
      "Parameters: (T_kin, n_H2, N_CO, X_CICO) = ( 25.0,  6.00, 18.0, 0.05) | 01/03, 05/05, 05/12, 01/20 |\n"
     ]
    },
    {
     "name": "stderr",
     "output_type": "stream",
     "text": [
      "/Users/dzliu/Software/Miniconda2/miniconda2/envs/condapy37/lib/python3.7/site-packages/astropy/units/quantity.py:486: RuntimeWarning: divide by zero encountered in true_divide\n",
      "  result = super().__array_ufunc__(function, method, *arrays, **kwargs)\n"
     ]
    },
    {
     "name": "stdout",
     "output_type": "stream",
     "text": [
      "Parameters: (T_kin, n_H2, N_CO, X_CICO) = ( 50.0,  6.00, 18.0, 0.05) | 02/03, 05/05, 05/12, 01/20 |\n"
     ]
    },
    {
     "name": "stderr",
     "output_type": "stream",
     "text": [
      "/Users/dzliu/Software/Miniconda2/miniconda2/envs/condapy37/lib/python3.7/site-packages/astropy/units/quantity.py:486: RuntimeWarning: divide by zero encountered in true_divide\n",
      "  result = super().__array_ufunc__(function, method, *arrays, **kwargs)\n"
     ]
    },
    {
     "name": "stdout",
     "output_type": "stream",
     "text": [
      "Parameters: (T_kin, n_H2, N_CO, X_CICO) = (100.0,  6.00, 18.0, 0.05) | 03/03, 05/05, 05/12, 01/20 |\n"
     ]
    },
    {
     "name": "stderr",
     "output_type": "stream",
     "text": [
      "/Users/dzliu/Software/Miniconda2/miniconda2/envs/condapy37/lib/python3.7/site-packages/astropy/units/quantity.py:486: RuntimeWarning: divide by zero encountered in true_divide\n",
      "  result = super().__array_ufunc__(function, method, *arrays, **kwargs)\n"
     ]
    },
    {
     "name": "stdout",
     "output_type": "stream",
     "text": [
      "Parameters: (T_kin, n_H2, N_CO, X_CICO) = ( 25.0,  2.00, 18.2, 0.05) | 01/03, 01/05, 06/12, 01/20 |\n"
     ]
    },
    {
     "name": "stderr",
     "output_type": "stream",
     "text": [
      "/Users/dzliu/Software/Miniconda2/miniconda2/envs/condapy37/lib/python3.7/site-packages/astropy/units/quantity.py:486: RuntimeWarning: divide by zero encountered in true_divide\n",
      "  result = super().__array_ufunc__(function, method, *arrays, **kwargs)\n"
     ]
    },
    {
     "name": "stdout",
     "output_type": "stream",
     "text": [
      "Error! Solving rate matrix has not converged with 100 iterations (max 100)\n",
      "Parameters: (T_kin, n_H2, N_CO, X_CICO) = ( 50.0,  2.00, 18.2, 0.05) | 02/03, 01/05, 06/12, 01/20 |\n"
     ]
    },
    {
     "name": "stderr",
     "output_type": "stream",
     "text": [
      "/Users/dzliu/Software/Miniconda2/miniconda2/envs/condapy37/lib/python3.7/site-packages/astropy/units/quantity.py:486: RuntimeWarning: divide by zero encountered in true_divide\n",
      "  result = super().__array_ufunc__(function, method, *arrays, **kwargs)\n"
     ]
    },
    {
     "name": "stdout",
     "output_type": "stream",
     "text": [
      "Error! Solving rate matrix has not converged with 100 iterations (max 100)\n",
      "Parameters: (T_kin, n_H2, N_CO, X_CICO) = (100.0,  2.00, 18.2, 0.05) | 03/03, 01/05, 06/12, 01/20 |\n"
     ]
    },
    {
     "name": "stderr",
     "output_type": "stream",
     "text": [
      "/Users/dzliu/Software/Miniconda2/miniconda2/envs/condapy37/lib/python3.7/site-packages/astropy/units/quantity.py:486: RuntimeWarning: divide by zero encountered in true_divide\n",
      "  result = super().__array_ufunc__(function, method, *arrays, **kwargs)\n"
     ]
    },
    {
     "name": "stdout",
     "output_type": "stream",
     "text": [
      "Error! Solving rate matrix has not converged with 100 iterations (max 100)\n",
      "Parameters: (T_kin, n_H2, N_CO, X_CICO) = ( 25.0,  3.00, 18.2, 0.05) | 01/03, 02/05, 06/12, 01/20 |\n"
     ]
    },
    {
     "name": "stderr",
     "output_type": "stream",
     "text": [
      "/Users/dzliu/Software/Miniconda2/miniconda2/envs/condapy37/lib/python3.7/site-packages/astropy/units/quantity.py:486: RuntimeWarning: divide by zero encountered in true_divide\n",
      "  result = super().__array_ufunc__(function, method, *arrays, **kwargs)\n"
     ]
    },
    {
     "name": "stdout",
     "output_type": "stream",
     "text": [
      "Error! Solving rate matrix has not converged with 100 iterations (max 100)\n",
      "Parameters: (T_kin, n_H2, N_CO, X_CICO) = ( 50.0,  3.00, 18.2, 0.05) | 02/03, 02/05, 06/12, 01/20 |\n"
     ]
    },
    {
     "name": "stderr",
     "output_type": "stream",
     "text": [
      "/Users/dzliu/Software/Miniconda2/miniconda2/envs/condapy37/lib/python3.7/site-packages/astropy/units/quantity.py:486: RuntimeWarning: divide by zero encountered in true_divide\n",
      "  result = super().__array_ufunc__(function, method, *arrays, **kwargs)\n"
     ]
    },
    {
     "name": "stdout",
     "output_type": "stream",
     "text": [
      "Error! Solving rate matrix has not converged with 100 iterations (max 100)\n",
      "Parameters: (T_kin, n_H2, N_CO, X_CICO) = (100.0,  3.00, 18.2, 0.05) | 03/03, 02/05, 06/12, 01/20 |\n"
     ]
    },
    {
     "name": "stderr",
     "output_type": "stream",
     "text": [
      "/Users/dzliu/Software/Miniconda2/miniconda2/envs/condapy37/lib/python3.7/site-packages/astropy/units/quantity.py:486: RuntimeWarning: divide by zero encountered in true_divide\n",
      "  result = super().__array_ufunc__(function, method, *arrays, **kwargs)\n"
     ]
    },
    {
     "name": "stdout",
     "output_type": "stream",
     "text": [
      "Error! Solving rate matrix has not converged with 100 iterations (max 100)\n",
      "Parameters: (T_kin, n_H2, N_CO, X_CICO) = ( 25.0,  4.00, 18.2, 0.05) | 01/03, 03/05, 06/12, 01/20 |\n"
     ]
    },
    {
     "name": "stderr",
     "output_type": "stream",
     "text": [
      "/Users/dzliu/Software/Miniconda2/miniconda2/envs/condapy37/lib/python3.7/site-packages/astropy/units/quantity.py:486: RuntimeWarning: divide by zero encountered in true_divide\n",
      "  result = super().__array_ufunc__(function, method, *arrays, **kwargs)\n"
     ]
    },
    {
     "name": "stdout",
     "output_type": "stream",
     "text": [
      "Parameters: (T_kin, n_H2, N_CO, X_CICO) = ( 50.0,  4.00, 18.2, 0.05) | 02/03, 03/05, 06/12, 01/20 |\n"
     ]
    },
    {
     "name": "stderr",
     "output_type": "stream",
     "text": [
      "/Users/dzliu/Software/Miniconda2/miniconda2/envs/condapy37/lib/python3.7/site-packages/astropy/units/quantity.py:486: RuntimeWarning: divide by zero encountered in true_divide\n",
      "  result = super().__array_ufunc__(function, method, *arrays, **kwargs)\n"
     ]
    },
    {
     "name": "stdout",
     "output_type": "stream",
     "text": [
      "Parameters: (T_kin, n_H2, N_CO, X_CICO) = (100.0,  4.00, 18.2, 0.05) | 03/03, 03/05, 06/12, 01/20 |\n"
     ]
    },
    {
     "name": "stderr",
     "output_type": "stream",
     "text": [
      "/Users/dzliu/Software/Miniconda2/miniconda2/envs/condapy37/lib/python3.7/site-packages/astropy/units/quantity.py:486: RuntimeWarning: divide by zero encountered in true_divide\n",
      "  result = super().__array_ufunc__(function, method, *arrays, **kwargs)\n"
     ]
    },
    {
     "name": "stdout",
     "output_type": "stream",
     "text": [
      "Error! Solving rate matrix has not converged with 100 iterations (max 100)\n",
      "Parameters: (T_kin, n_H2, N_CO, X_CICO) = ( 25.0,  5.00, 18.2, 0.05) | 01/03, 04/05, 06/12, 01/20 |\n"
     ]
    },
    {
     "name": "stderr",
     "output_type": "stream",
     "text": [
      "/Users/dzliu/Software/Miniconda2/miniconda2/envs/condapy37/lib/python3.7/site-packages/astropy/units/quantity.py:486: RuntimeWarning: divide by zero encountered in true_divide\n",
      "  result = super().__array_ufunc__(function, method, *arrays, **kwargs)\n"
     ]
    },
    {
     "name": "stdout",
     "output_type": "stream",
     "text": [
      "Parameters: (T_kin, n_H2, N_CO, X_CICO) = ( 50.0,  5.00, 18.2, 0.05) | 02/03, 04/05, 06/12, 01/20 |\n"
     ]
    },
    {
     "name": "stderr",
     "output_type": "stream",
     "text": [
      "/Users/dzliu/Software/Miniconda2/miniconda2/envs/condapy37/lib/python3.7/site-packages/astropy/units/quantity.py:486: RuntimeWarning: divide by zero encountered in true_divide\n",
      "  result = super().__array_ufunc__(function, method, *arrays, **kwargs)\n"
     ]
    },
    {
     "name": "stdout",
     "output_type": "stream",
     "text": [
      "Parameters: (T_kin, n_H2, N_CO, X_CICO) = (100.0,  5.00, 18.2, 0.05) | 03/03, 04/05, 06/12, 01/20 |\n"
     ]
    },
    {
     "name": "stderr",
     "output_type": "stream",
     "text": [
      "/Users/dzliu/Software/Miniconda2/miniconda2/envs/condapy37/lib/python3.7/site-packages/astropy/units/quantity.py:486: RuntimeWarning: divide by zero encountered in true_divide\n",
      "  result = super().__array_ufunc__(function, method, *arrays, **kwargs)\n"
     ]
    },
    {
     "name": "stdout",
     "output_type": "stream",
     "text": [
      "Parameters: (T_kin, n_H2, N_CO, X_CICO) = ( 25.0,  6.00, 18.2, 0.05) | 01/03, 05/05, 06/12, 01/20 |\n"
     ]
    },
    {
     "name": "stderr",
     "output_type": "stream",
     "text": [
      "/Users/dzliu/Software/Miniconda2/miniconda2/envs/condapy37/lib/python3.7/site-packages/astropy/units/quantity.py:486: RuntimeWarning: divide by zero encountered in true_divide\n",
      "  result = super().__array_ufunc__(function, method, *arrays, **kwargs)\n"
     ]
    },
    {
     "name": "stdout",
     "output_type": "stream",
     "text": [
      "Parameters: (T_kin, n_H2, N_CO, X_CICO) = ( 50.0,  6.00, 18.2, 0.05) | 02/03, 05/05, 06/12, 01/20 |\n"
     ]
    },
    {
     "name": "stderr",
     "output_type": "stream",
     "text": [
      "/Users/dzliu/Software/Miniconda2/miniconda2/envs/condapy37/lib/python3.7/site-packages/astropy/units/quantity.py:486: RuntimeWarning: divide by zero encountered in true_divide\n",
      "  result = super().__array_ufunc__(function, method, *arrays, **kwargs)\n"
     ]
    },
    {
     "name": "stdout",
     "output_type": "stream",
     "text": [
      "Parameters: (T_kin, n_H2, N_CO, X_CICO) = (100.0,  6.00, 18.2, 0.05) | 03/03, 05/05, 06/12, 01/20 |\n"
     ]
    },
    {
     "name": "stderr",
     "output_type": "stream",
     "text": [
      "/Users/dzliu/Software/Miniconda2/miniconda2/envs/condapy37/lib/python3.7/site-packages/astropy/units/quantity.py:486: RuntimeWarning: divide by zero encountered in true_divide\n",
      "  result = super().__array_ufunc__(function, method, *arrays, **kwargs)\n"
     ]
    },
    {
     "name": "stdout",
     "output_type": "stream",
     "text": [
      "Parameters: (T_kin, n_H2, N_CO, X_CICO) = ( 25.0,  2.00, 18.5, 0.05) | 01/03, 01/05, 07/12, 01/20 |\n"
     ]
    },
    {
     "name": "stderr",
     "output_type": "stream",
     "text": [
      "/Users/dzliu/Software/Miniconda2/miniconda2/envs/condapy37/lib/python3.7/site-packages/astropy/units/quantity.py:486: RuntimeWarning: divide by zero encountered in true_divide\n",
      "  result = super().__array_ufunc__(function, method, *arrays, **kwargs)\n"
     ]
    },
    {
     "name": "stdout",
     "output_type": "stream",
     "text": [
      "Error! Solving rate matrix has not converged with 100 iterations (max 100)\n",
      "Parameters: (T_kin, n_H2, N_CO, X_CICO) = ( 50.0,  2.00, 18.5, 0.05) | 02/03, 01/05, 07/12, 01/20 |\n"
     ]
    },
    {
     "name": "stderr",
     "output_type": "stream",
     "text": [
      "/Users/dzliu/Software/Miniconda2/miniconda2/envs/condapy37/lib/python3.7/site-packages/astropy/units/quantity.py:486: RuntimeWarning: divide by zero encountered in true_divide\n",
      "  result = super().__array_ufunc__(function, method, *arrays, **kwargs)\n"
     ]
    },
    {
     "name": "stdout",
     "output_type": "stream",
     "text": [
      "Error! Solving rate matrix has not converged with 100 iterations (max 100)\n",
      "Parameters: (T_kin, n_H2, N_CO, X_CICO) = (100.0,  2.00, 18.5, 0.05) | 03/03, 01/05, 07/12, 01/20 |\n"
     ]
    },
    {
     "name": "stderr",
     "output_type": "stream",
     "text": [
      "/Users/dzliu/Software/Miniconda2/miniconda2/envs/condapy37/lib/python3.7/site-packages/astropy/units/quantity.py:486: RuntimeWarning: divide by zero encountered in true_divide\n",
      "  result = super().__array_ufunc__(function, method, *arrays, **kwargs)\n"
     ]
    },
    {
     "name": "stdout",
     "output_type": "stream",
     "text": [
      "Error! Solving rate matrix has not converged with 100 iterations (max 100)\n",
      "Parameters: (T_kin, n_H2, N_CO, X_CICO) = ( 25.0,  3.00, 18.5, 0.05) | 01/03, 02/05, 07/12, 01/20 |\n"
     ]
    },
    {
     "name": "stderr",
     "output_type": "stream",
     "text": [
      "/Users/dzliu/Software/Miniconda2/miniconda2/envs/condapy37/lib/python3.7/site-packages/astropy/units/quantity.py:486: RuntimeWarning: divide by zero encountered in true_divide\n",
      "  result = super().__array_ufunc__(function, method, *arrays, **kwargs)\n"
     ]
    },
    {
     "name": "stdout",
     "output_type": "stream",
     "text": [
      "Error! Solving rate matrix has not converged with 100 iterations (max 100)\n",
      "Parameters: (T_kin, n_H2, N_CO, X_CICO) = ( 50.0,  3.00, 18.5, 0.05) | 02/03, 02/05, 07/12, 01/20 |\n"
     ]
    },
    {
     "name": "stderr",
     "output_type": "stream",
     "text": [
      "/Users/dzliu/Software/Miniconda2/miniconda2/envs/condapy37/lib/python3.7/site-packages/astropy/units/quantity.py:486: RuntimeWarning: divide by zero encountered in true_divide\n",
      "  result = super().__array_ufunc__(function, method, *arrays, **kwargs)\n"
     ]
    },
    {
     "name": "stdout",
     "output_type": "stream",
     "text": [
      "Error! Solving rate matrix has not converged with 100 iterations (max 100)\n",
      "Parameters: (T_kin, n_H2, N_CO, X_CICO) = (100.0,  3.00, 18.5, 0.05) | 03/03, 02/05, 07/12, 01/20 |\n"
     ]
    },
    {
     "name": "stderr",
     "output_type": "stream",
     "text": [
      "/Users/dzliu/Software/Miniconda2/miniconda2/envs/condapy37/lib/python3.7/site-packages/astropy/units/quantity.py:486: RuntimeWarning: divide by zero encountered in true_divide\n",
      "  result = super().__array_ufunc__(function, method, *arrays, **kwargs)\n"
     ]
    },
    {
     "name": "stdout",
     "output_type": "stream",
     "text": [
      "Error! Solving rate matrix has not converged with 100 iterations (max 100)\n",
      "Parameters: (T_kin, n_H2, N_CO, X_CICO) = ( 25.0,  4.00, 18.5, 0.05) | 01/03, 03/05, 07/12, 01/20 |\n"
     ]
    },
    {
     "name": "stderr",
     "output_type": "stream",
     "text": [
      "/Users/dzliu/Software/Miniconda2/miniconda2/envs/condapy37/lib/python3.7/site-packages/astropy/units/quantity.py:486: RuntimeWarning: divide by zero encountered in true_divide\n",
      "  result = super().__array_ufunc__(function, method, *arrays, **kwargs)\n"
     ]
    },
    {
     "name": "stdout",
     "output_type": "stream",
     "text": [
      "Parameters: (T_kin, n_H2, N_CO, X_CICO) = ( 50.0,  4.00, 18.5, 0.05) | 02/03, 03/05, 07/12, 01/20 |\n"
     ]
    },
    {
     "name": "stderr",
     "output_type": "stream",
     "text": [
      "/Users/dzliu/Software/Miniconda2/miniconda2/envs/condapy37/lib/python3.7/site-packages/astropy/units/quantity.py:486: RuntimeWarning: divide by zero encountered in true_divide\n",
      "  result = super().__array_ufunc__(function, method, *arrays, **kwargs)\n"
     ]
    },
    {
     "name": "stdout",
     "output_type": "stream",
     "text": [
      "Error! Solving rate matrix has not converged with 100 iterations (max 100)\n",
      "Parameters: (T_kin, n_H2, N_CO, X_CICO) = (100.0,  4.00, 18.5, 0.05) | 03/03, 03/05, 07/12, 01/20 |\n"
     ]
    },
    {
     "name": "stderr",
     "output_type": "stream",
     "text": [
      "/Users/dzliu/Software/Miniconda2/miniconda2/envs/condapy37/lib/python3.7/site-packages/astropy/units/quantity.py:486: RuntimeWarning: divide by zero encountered in true_divide\n",
      "  result = super().__array_ufunc__(function, method, *arrays, **kwargs)\n"
     ]
    },
    {
     "ename": "KeyboardInterrupt",
     "evalue": "",
     "output_type": "error",
     "traceback": [
      "\u001b[0;31m---------------------------------------------------------------------------\u001b[0m",
      "\u001b[0;31mKeyboardInterrupt\u001b[0m                         Traceback (most recent call last)",
      "\u001b[0;32m<ipython-input-19-ccb071c4cac3>\u001b[0m in \u001b[0;36m<module>\u001b[0;34m\u001b[0m\n\u001b[1;32m     28\u001b[0m                 \u001b[0mvar_dict\u001b[0m\u001b[0;34m[\u001b[0m\u001b[0;34m'collision_partner_densities'\u001b[0m\u001b[0;34m]\u001b[0m \u001b[0;34m=\u001b[0m \u001b[0;34m{\u001b[0m\u001b[0;34m'ortho-H2'\u001b[0m\u001b[0;34m:\u001b[0m \u001b[0;36m0.75\u001b[0m \u001b[0;34m*\u001b[0m \u001b[0mn_H2\u001b[0m \u001b[0;34m*\u001b[0m \u001b[0mu\u001b[0m\u001b[0;34m.\u001b[0m\u001b[0mcm\u001b[0m\u001b[0;34m**\u001b[0m\u001b[0;34m(\u001b[0m\u001b[0;34m-\u001b[0m\u001b[0;36m3\u001b[0m\u001b[0;34m)\u001b[0m\u001b[0;34m,\u001b[0m \u001b[0;34m'para-H2'\u001b[0m\u001b[0;34m:\u001b[0m \u001b[0;36m0.25\u001b[0m \u001b[0;34m*\u001b[0m \u001b[0mn_H2\u001b[0m \u001b[0;34m*\u001b[0m \u001b[0mu\u001b[0m\u001b[0;34m.\u001b[0m\u001b[0mcm\u001b[0m\u001b[0;34m**\u001b[0m\u001b[0;34m(\u001b[0m\u001b[0;34m-\u001b[0m\u001b[0;36m3\u001b[0m\u001b[0;34m)\u001b[0m\u001b[0;34m}\u001b[0m\u001b[0;34m\u001b[0m\u001b[0;34m\u001b[0m\u001b[0m\n\u001b[1;32m     29\u001b[0m \u001b[0;34m\u001b[0m\u001b[0m\n\u001b[0;32m---> 30\u001b[0;31m                 \u001b[0mres_dict\u001b[0m \u001b[0;34m=\u001b[0m \u001b[0mrun_for_one_input_set\u001b[0m\u001b[0;34m(\u001b[0m\u001b[0mvar_dict\u001b[0m\u001b[0;34m)\u001b[0m\u001b[0;34m\u001b[0m\u001b[0;34m\u001b[0m\u001b[0m\n\u001b[0m\u001b[1;32m     31\u001b[0m \u001b[0;34m\u001b[0m\u001b[0m\n\u001b[1;32m     32\u001b[0m                 \u001b[0;32mif\u001b[0m \u001b[0mout_dict\u001b[0m \u001b[0;32mis\u001b[0m \u001b[0;32mNone\u001b[0m\u001b[0;34m:\u001b[0m\u001b[0;34m\u001b[0m\u001b[0;34m\u001b[0m\u001b[0m\n",
      "\u001b[0;32m<ipython-input-18-684edefc0ce9>\u001b[0m in \u001b[0;36mrun_for_one_input_set\u001b[0;34m(var_dict)\u001b[0m\n\u001b[1;32m    118\u001b[0m                                           LTE = True)\n\u001b[1;32m    119\u001b[0m         \u001b[0;31m#out_table_CO_LTE = CO.get_solved_transition_properties()\u001b[0m\u001b[0;34m\u001b[0m\u001b[0;34m\u001b[0m\u001b[0;34m\u001b[0m\u001b[0m\n\u001b[0;32m--> 120\u001b[0;31m         \u001b[0mCO\u001b[0m\u001b[0;34m.\u001b[0m\u001b[0msolve_rate_matrix_iteratively\u001b[0m\u001b[0;34m(\u001b[0m\u001b[0mverbose\u001b[0m \u001b[0;34m=\u001b[0m \u001b[0;32mFalse\u001b[0m\u001b[0;34m,\u001b[0m \u001b[0msilent\u001b[0m \u001b[0;34m=\u001b[0m \u001b[0;32mTrue\u001b[0m\u001b[0;34m)\u001b[0m\u001b[0;34m\u001b[0m\u001b[0;34m\u001b[0m\u001b[0m\n\u001b[0m\u001b[1;32m    121\u001b[0m         \u001b[0;32mif\u001b[0m \u001b[0;34m(\u001b[0m\u001b[0mCO\u001b[0m\u001b[0;34m.\u001b[0m\u001b[0mconverged_iterations\u001b[0m\u001b[0;34m<\u001b[0m\u001b[0;36m0\u001b[0m\u001b[0;34m)\u001b[0m\u001b[0;34m:\u001b[0m\u001b[0;34m\u001b[0m\u001b[0;34m\u001b[0m\u001b[0m\n\u001b[1;32m    122\u001b[0m             \u001b[0mos\u001b[0m\u001b[0;34m.\u001b[0m\u001b[0msystem\u001b[0m\u001b[0;34m(\u001b[0m\u001b[0;34m'touch \"%s\"'\u001b[0m\u001b[0;34m%\u001b[0m\u001b[0;34m(\u001b[0m\u001b[0mout_table_file_CO_NonLTE\u001b[0m \u001b[0;34m+\u001b[0m \u001b[0;34m'.warning.not.converged'\u001b[0m\u001b[0;34m)\u001b[0m\u001b[0;34m)\u001b[0m\u001b[0;34m\u001b[0m\u001b[0;34m\u001b[0m\u001b[0m\n",
      "\u001b[0;32m~/Cloud/GitLab/COExcitation/utils/moldata.py\u001b[0m in \u001b[0;36msolve_rate_matrix_iteratively\u001b[0;34m(self, min_iter, max_iter, verbose, silent)\u001b[0m\n\u001b[1;32m   1450\u001b[0m             self.build_rate_matrix(\n\u001b[1;32m   1451\u001b[0m                     \u001b[0mverbose\u001b[0m \u001b[0;34m=\u001b[0m \u001b[0;32mFalse\u001b[0m\u001b[0;34m,\u001b[0m\u001b[0;34m\u001b[0m\u001b[0;34m\u001b[0m\u001b[0m\n\u001b[0;32m-> 1452\u001b[0;31m                     \u001b[0msilent\u001b[0m \u001b[0;34m=\u001b[0m \u001b[0;32mTrue\u001b[0m\u001b[0;34m,\u001b[0m\u001b[0;34m\u001b[0m\u001b[0;34m\u001b[0m\u001b[0m\n\u001b[0m\u001b[1;32m   1453\u001b[0m                     \u001b[0;31m# debug_print = True,\u001b[0m\u001b[0;34m\u001b[0m\u001b[0;34m\u001b[0m\u001b[0;34m\u001b[0m\u001b[0m\n\u001b[1;32m   1454\u001b[0m                 )\n",
      "\u001b[0;32m~/Cloud/GitLab/COExcitation/utils/moldata.py\u001b[0m in \u001b[0;36mbuild_rate_matrix\u001b[0;34m(self, reduce_rate_matrix, only_radiation, only_collision, verbose, silent, debug_print)\u001b[0m\n\u001b[1;32m   1241\u001b[0m                     \u001b[0mrate_matrix\u001b[0m\u001b[0;34m[\u001b[0m\u001b[0mjdx\u001b[0m\u001b[0;34m,\u001b[0m \u001b[0midx\u001b[0m\u001b[0;34m]\u001b[0m \u001b[0;34m+=\u001b[0m \u001b[0mself\u001b[0m\u001b[0;34m.\u001b[0m\u001b[0mlevels\u001b[0m\u001b[0;34m[\u001b[0m\u001b[0mjlevel\u001b[0m\u001b[0;34m]\u001b[0m\u001b[0;34m.\u001b[0m\u001b[0mpop_in_rate_B\u001b[0m\u001b[0;34m[\u001b[0m\u001b[0milevel\u001b[0m\u001b[0;34m]\u001b[0m\u001b[0;34m.\u001b[0m\u001b[0mcgs\u001b[0m\u001b[0;34m.\u001b[0m\u001b[0mvalue\u001b[0m\u001b[0;34m\u001b[0m\u001b[0;34m\u001b[0m\u001b[0m\n\u001b[1;32m   1242\u001b[0m                 \u001b[0;32mif\u001b[0m \u001b[0milevel\u001b[0m \u001b[0;32min\u001b[0m \u001b[0mself\u001b[0m\u001b[0;34m.\u001b[0m\u001b[0mlevels\u001b[0m\u001b[0;34m[\u001b[0m\u001b[0mjlevel\u001b[0m\u001b[0;34m]\u001b[0m\u001b[0;34m.\u001b[0m\u001b[0mpop_in_rate_C\u001b[0m\u001b[0;34m.\u001b[0m\u001b[0mkeys\u001b[0m\u001b[0;34m(\u001b[0m\u001b[0;34m)\u001b[0m \u001b[0;32mand\u001b[0m \u001b[0;32mnot\u001b[0m \u001b[0monly_radiation\u001b[0m\u001b[0;34m:\u001b[0m\u001b[0;34m\u001b[0m\u001b[0;34m\u001b[0m\u001b[0m\n\u001b[0;32m-> 1243\u001b[0;31m                     \u001b[0mrate_matrix\u001b[0m\u001b[0;34m[\u001b[0m\u001b[0mjdx\u001b[0m\u001b[0;34m,\u001b[0m \u001b[0midx\u001b[0m\u001b[0;34m]\u001b[0m \u001b[0;34m+=\u001b[0m \u001b[0mself\u001b[0m\u001b[0;34m.\u001b[0m\u001b[0mlevels\u001b[0m\u001b[0;34m[\u001b[0m\u001b[0mjlevel\u001b[0m\u001b[0;34m]\u001b[0m\u001b[0;34m.\u001b[0m\u001b[0mpop_in_rate_C\u001b[0m\u001b[0;34m[\u001b[0m\u001b[0milevel\u001b[0m\u001b[0;34m]\u001b[0m\u001b[0;34m.\u001b[0m\u001b[0mcgs\u001b[0m\u001b[0;34m.\u001b[0m\u001b[0mvalue\u001b[0m\u001b[0;34m\u001b[0m\u001b[0;34m\u001b[0m\u001b[0m\n\u001b[0m\u001b[1;32m   1244\u001b[0m                 \u001b[0;31m#\u001b[0m\u001b[0;34m\u001b[0m\u001b[0;34m\u001b[0m\u001b[0;34m\u001b[0m\u001b[0m\n\u001b[1;32m   1245\u001b[0m                 \u001b[0;31m# pop-out to level-ilevel depends on level-jlevel's column density\u001b[0m\u001b[0;34m\u001b[0m\u001b[0;34m\u001b[0m\u001b[0;34m\u001b[0m\u001b[0m\n",
      "\u001b[0;32m~/Software/Miniconda2/miniconda2/envs/condapy37/lib/python3.7/site-packages/astropy/units/quantity.py\u001b[0m in \u001b[0;36mcgs\u001b[0;34m(self)\u001b[0m\n\u001b[1;32m    802\u001b[0m         \u001b[0mcgs_unit\u001b[0m \u001b[0;34m=\u001b[0m \u001b[0mself\u001b[0m\u001b[0;34m.\u001b[0m\u001b[0munit\u001b[0m\u001b[0;34m.\u001b[0m\u001b[0mcgs\u001b[0m\u001b[0;34m\u001b[0m\u001b[0;34m\u001b[0m\u001b[0m\n\u001b[1;32m    803\u001b[0m         return self._new_view(self.value * cgs_unit.scale,\n\u001b[0;32m--> 804\u001b[0;31m                               cgs_unit / cgs_unit.scale)\n\u001b[0m\u001b[1;32m    805\u001b[0m \u001b[0;34m\u001b[0m\u001b[0m\n\u001b[1;32m    806\u001b[0m     \u001b[0;34m@\u001b[0m\u001b[0mproperty\u001b[0m\u001b[0;34m\u001b[0m\u001b[0;34m\u001b[0m\u001b[0m\n",
      "\u001b[0;32m~/Software/Miniconda2/miniconda2/envs/condapy37/lib/python3.7/site-packages/astropy/units/core.py\u001b[0m in \u001b[0;36m__div__\u001b[0;34m(self, m)\u001b[0m\n\u001b[1;32m    788\u001b[0m             \u001b[0;31m# Cannot handle this as Unit, re-try as Quantity\u001b[0m\u001b[0;34m\u001b[0m\u001b[0;34m\u001b[0m\u001b[0;34m\u001b[0m\u001b[0m\n\u001b[1;32m    789\u001b[0m             \u001b[0;32mfrom\u001b[0m \u001b[0;34m.\u001b[0m\u001b[0mquantity\u001b[0m \u001b[0;32mimport\u001b[0m \u001b[0mQuantity\u001b[0m\u001b[0;34m\u001b[0m\u001b[0;34m\u001b[0m\u001b[0m\n\u001b[0;32m--> 790\u001b[0;31m             \u001b[0;32mreturn\u001b[0m \u001b[0mQuantity\u001b[0m\u001b[0;34m(\u001b[0m\u001b[0;36m1\u001b[0m\u001b[0;34m,\u001b[0m \u001b[0mself\u001b[0m\u001b[0;34m)\u001b[0m \u001b[0;34m/\u001b[0m \u001b[0mm\u001b[0m\u001b[0;34m\u001b[0m\u001b[0;34m\u001b[0m\u001b[0m\n\u001b[0m\u001b[1;32m    791\u001b[0m         \u001b[0;32mexcept\u001b[0m \u001b[0mTypeError\u001b[0m\u001b[0;34m:\u001b[0m\u001b[0;34m\u001b[0m\u001b[0;34m\u001b[0m\u001b[0m\n\u001b[1;32m    792\u001b[0m             \u001b[0;32mreturn\u001b[0m \u001b[0mNotImplemented\u001b[0m\u001b[0;34m\u001b[0m\u001b[0;34m\u001b[0m\u001b[0m\n",
      "\u001b[0;32m~/Software/Miniconda2/miniconda2/envs/condapy37/lib/python3.7/site-packages/astropy/units/quantity.py\u001b[0m in \u001b[0;36m__truediv__\u001b[0;34m(self, other)\u001b[0m\n\u001b[1;32m    985\u001b[0m                 \u001b[0;32mreturn\u001b[0m \u001b[0mNotImplemented\u001b[0m\u001b[0;34m\u001b[0m\u001b[0;34m\u001b[0m\u001b[0m\n\u001b[1;32m    986\u001b[0m \u001b[0;34m\u001b[0m\u001b[0m\n\u001b[0;32m--> 987\u001b[0;31m         \u001b[0;32mreturn\u001b[0m \u001b[0msuper\u001b[0m\u001b[0;34m(\u001b[0m\u001b[0;34m)\u001b[0m\u001b[0;34m.\u001b[0m\u001b[0m__truediv__\u001b[0m\u001b[0;34m(\u001b[0m\u001b[0mother\u001b[0m\u001b[0;34m)\u001b[0m\u001b[0;34m\u001b[0m\u001b[0;34m\u001b[0m\u001b[0m\n\u001b[0m\u001b[1;32m    988\u001b[0m \u001b[0;34m\u001b[0m\u001b[0m\n\u001b[1;32m    989\u001b[0m     \u001b[0;32mdef\u001b[0m \u001b[0m__itruediv__\u001b[0m\u001b[0;34m(\u001b[0m\u001b[0mself\u001b[0m\u001b[0;34m,\u001b[0m \u001b[0mother\u001b[0m\u001b[0;34m)\u001b[0m\u001b[0;34m:\u001b[0m\u001b[0;34m\u001b[0m\u001b[0;34m\u001b[0m\u001b[0m\n",
      "\u001b[0;32m~/Software/Miniconda2/miniconda2/envs/condapy37/lib/python3.7/site-packages/astropy/units/quantity.py\u001b[0m in \u001b[0;36m__array_ufunc__\u001b[0;34m(self, function, method, *inputs, **kwargs)\u001b[0m\n\u001b[1;32m    493\u001b[0m             \u001b[0;32mreturn\u001b[0m \u001b[0mresult\u001b[0m\u001b[0;34m\u001b[0m\u001b[0;34m\u001b[0m\u001b[0m\n\u001b[1;32m    494\u001b[0m \u001b[0;34m\u001b[0m\u001b[0m\n\u001b[0;32m--> 495\u001b[0;31m         \u001b[0;32mreturn\u001b[0m \u001b[0mself\u001b[0m\u001b[0;34m.\u001b[0m\u001b[0m_result_as_quantity\u001b[0m\u001b[0;34m(\u001b[0m\u001b[0mresult\u001b[0m\u001b[0;34m,\u001b[0m \u001b[0munit\u001b[0m\u001b[0;34m,\u001b[0m \u001b[0mout\u001b[0m\u001b[0;34m)\u001b[0m\u001b[0;34m\u001b[0m\u001b[0;34m\u001b[0m\u001b[0m\n\u001b[0m\u001b[1;32m    496\u001b[0m \u001b[0;34m\u001b[0m\u001b[0m\n\u001b[1;32m    497\u001b[0m     \u001b[0;32mdef\u001b[0m \u001b[0m_result_as_quantity\u001b[0m\u001b[0;34m(\u001b[0m\u001b[0mself\u001b[0m\u001b[0;34m,\u001b[0m \u001b[0mresult\u001b[0m\u001b[0;34m,\u001b[0m \u001b[0munit\u001b[0m\u001b[0;34m,\u001b[0m \u001b[0mout\u001b[0m\u001b[0;34m)\u001b[0m\u001b[0;34m:\u001b[0m\u001b[0;34m\u001b[0m\u001b[0;34m\u001b[0m\u001b[0m\n",
      "\u001b[0;32m~/Software/Miniconda2/miniconda2/envs/condapy37/lib/python3.7/site-packages/astropy/units/quantity.py\u001b[0m in \u001b[0;36m_result_as_quantity\u001b[0;34m(self, result, unit, out)\u001b[0m\n\u001b[1;32m    528\u001b[0m         \u001b[0;32mif\u001b[0m \u001b[0mout\u001b[0m \u001b[0;32mis\u001b[0m \u001b[0;32mNone\u001b[0m\u001b[0;34m:\u001b[0m\u001b[0;34m\u001b[0m\u001b[0;34m\u001b[0m\u001b[0m\n\u001b[1;32m    529\u001b[0m             \u001b[0;31m# View the result array as a Quantity with the proper unit.\u001b[0m\u001b[0;34m\u001b[0m\u001b[0;34m\u001b[0m\u001b[0;34m\u001b[0m\u001b[0m\n\u001b[0;32m--> 530\u001b[0;31m             \u001b[0;32mreturn\u001b[0m \u001b[0mresult\u001b[0m \u001b[0;32mif\u001b[0m \u001b[0munit\u001b[0m \u001b[0;32mis\u001b[0m \u001b[0;32mNone\u001b[0m \u001b[0;32melse\u001b[0m \u001b[0mself\u001b[0m\u001b[0;34m.\u001b[0m\u001b[0m_new_view\u001b[0m\u001b[0;34m(\u001b[0m\u001b[0mresult\u001b[0m\u001b[0;34m,\u001b[0m \u001b[0munit\u001b[0m\u001b[0;34m)\u001b[0m\u001b[0;34m\u001b[0m\u001b[0;34m\u001b[0m\u001b[0m\n\u001b[0m\u001b[1;32m    531\u001b[0m \u001b[0;34m\u001b[0m\u001b[0m\n\u001b[1;32m    532\u001b[0m         \u001b[0;31m# For given output, just set the unit. We know the unit is not None and\u001b[0m\u001b[0;34m\u001b[0m\u001b[0;34m\u001b[0m\u001b[0;34m\u001b[0m\u001b[0m\n",
      "\u001b[0;31mKeyboardInterrupt\u001b[0m: "
     ]
    }
   ],
   "source": [
    "# Run the calculation loop\n",
    "\n",
    "print('datetime.datetime.now()', datetime.datetime.now())\n",
    "\n",
    "# Loop\n",
    "var_dict = {'CO': CO, 'CI': CI}\n",
    "out_dict = None\n",
    "for idx_X_CICO, X_CICO in enumerate(list_of_X_CICO):\n",
    "    for idx_N_CO, N_CO in enumerate(list_of_N_CO):\n",
    "        for idx_n_H2, n_H2 in enumerate(list_of_n_H2):\n",
    "            for idx_T_kin, T_kin in enumerate(list_of_T_kin):\n",
    "                print('Parameters: (T_kin, n_H2, N_CO, X_CICO) = (%5.1f, %5.2f, %4.1f, %4.2f) | %02d/%02d, %02d/%02d, %02d/%02d, %02d/%02d |'%(\n",
    "                    T_kin, \n",
    "                    np.log10(n_H2), \n",
    "                    np.log10(N_CO), \n",
    "                    X_CICO, \n",
    "                    idx_T_kin+1, len(list_of_T_kin), \n",
    "                    idx_n_H2+1, len(list_of_n_H2), \n",
    "                    idx_N_CO+1, len(list_of_N_CO), \n",
    "                    idx_X_CICO+1, len(list_of_X_CICO), \n",
    "                ))\n",
    "                var_dict['N_CO'] = N_CO * u.cm**(-2)\n",
    "                var_dict['N_CI'] = X_CICO * N_CO * u.cm**(-2) # CI/CO intrinsic abundance ratio\n",
    "                var_dict['X_CICO'] = X_CICO\n",
    "                var_dict['d_V'] = line_width * u.km/u.s\n",
    "                var_dict['T_kin'] = T_kin * u.K\n",
    "                var_dict['n_H2'] = n_H2 * u.cm**(-3)\n",
    "                var_dict['collision_partner_densities'] = {'ortho-H2': 0.75 * n_H2 * u.cm**(-3), 'para-H2': 0.25 * n_H2 * u.cm**(-3)}\n",
    "                \n",
    "                res_dict = run_for_one_input_set(var_dict)\n",
    "                \n",
    "                if out_dict is None:\n",
    "                    out_dict = OrderedDict()\n",
    "                    for key in res_dict:\n",
    "                        out_dict[key] = [res_dict[key]]\n",
    "                else:\n",
    "                    for key in res_dict:\n",
    "                        out_dict[key].append(res_dict[key])\n",
    "        \n",
    "        #out_table_cache = Table(out_dict)\n",
    "        #out_table_cache.write(out_table_name + '.cache.csv', format='csv', overwrite=True)\n",
    "        \n",
    "print('datetime.datetime.now()', datetime.datetime.now())\n",
    "\n",
    "out_table = Table(out_dict)\n",
    "out_table"
   ]
  },
  {
   "cell_type": "code",
   "execution_count": null,
   "metadata": {},
   "outputs": [],
   "source": [
    "# Write table to disk\n",
    "\n",
    "out_table.write(out_table_name + '.csv', format='csv', overwrite=True)\n",
    "out_table.write(out_table_name + '.dat', format='ascii.fixed_width', delimiter='  ', bookend=True, overwrite=True)\n",
    "print('Output to \"%s\"'%(out_table_name + '.csv'))\n",
    "print('Output to \"%s\"'%(out_table_name + '.dat'))"
   ]
  },
  {
   "cell_type": "code",
   "execution_count": null,
   "metadata": {},
   "outputs": [],
   "source": []
  }
 ],
 "metadata": {
  "kernelspec": {
   "display_name": "Python 3 (ipykernel)",
   "language": "python",
   "name": "python3"
  },
  "language_info": {
   "codemirror_mode": {
    "name": "ipython",
    "version": 3
   },
   "file_extension": ".py",
   "mimetype": "text/x-python",
   "name": "python",
   "nbconvert_exporter": "python",
   "pygments_lexer": "ipython3",
   "version": "3.7.11"
  }
 },
 "nbformat": 4,
 "nbformat_minor": 4
}
