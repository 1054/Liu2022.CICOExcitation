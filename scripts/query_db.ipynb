{
 "cells": [
  {
   "cell_type": "code",
   "execution_count": 33,
   "id": "60b4354b",
   "metadata": {},
   "outputs": [
    {
     "name": "stdout",
     "output_type": "stream",
     "text": [
      "/Users/dzliu/Work/2020_Liu_CO_CI/Excitation_Analysis/CICOExcitation/scripts\n",
      "/Users/dzliu/Work/2020_Liu_CO_CI/Excitation_Analysis/CICOExcitation/scripts\n"
     ]
    }
   ],
   "source": [
    "import os, sys, re, datetime, shutil, copy, subprocess\n",
    "import numpy as np\n",
    "import astropy.units as u\n",
    "from astropy.table import Table\n",
    "from collections import OrderedDict\n",
    "sys.path.insert(1, os.path.join(os.path.dirname(os.getcwd()), 'utils'))\n",
    "radex_calc_path = os.path.join(os.path.dirname(os.getcwd()), 'tmp', 'calc_radex')"
   ]
  },
  {
   "cell_type": "code",
   "execution_count": 10,
   "id": "9250bb3c",
   "metadata": {},
   "outputs": [],
   "source": [
    "import sqlite3 as sqlite\n",
    "db_file = os.path.join(radex_calc_path, 'calc_radex.db')\n",
    "db_conn = sqlite.connect(db_file)\n",
    "db_cursor = db_conn.cursor()"
   ]
  },
  {
   "cell_type": "code",
   "execution_count": 28,
   "id": "d5bc44ef",
   "metadata": {},
   "outputs": [
    {
     "name": "stdout",
     "output_type": "stream",
     "text": [
      "('calc_T_CMB_2.73_T_kin_25.0_N_CI_5.00e15_n_H2_1.0e3_d_V_10.0_Ju_1_Jl_0', 'calc_T_CMB_2.73_T_kin_25.0_N_CI_5.00e15_n_H2_1.0e3_d_V_10.0', 'CI', 2.72548, 25.0, 5000000000000000.0, 1000.0, 10.0, 1.0, 0.0, 23.6, 492.1607, 609.1354, 16.55, 0.004098, 0.03049, 0.3888, 0.54, 0.3245, 4.982e-07)\n"
     ]
    }
   ],
   "source": [
    "sqlcmd = \"SELECT * FROM CI WHERE T_kin=25 AND d_V=10 AND n_H2=1e3 AND J_UP=1 AND J_LOW=0 \" + \\\n",
    "         \"ORDER BY ROWID ASC LIMIT 100\"\n",
    "db_cursor.execute(sqlcmd)\n",
    "queried_rows = db_cursor.fetchall()\n",
    "print(queried_rows[0])"
   ]
  },
  {
   "cell_type": "code",
   "execution_count": 29,
   "id": "3b8754fc",
   "metadata": {},
   "outputs": [
    {
     "data": {
      "text/html": [
       "<div><i>Table length=100</i>\n",
       "<table id=\"table140353126297744\" class=\"table-striped table-bordered table-condensed\">\n",
       "<thead><tr><th>calc_name_Ju_Jl</th><th>calc_name</th><th>species</th><th>T_CMB</th><th>T_kin</th><th>N_X</th><th>n_H2</th><th>d_V</th><th>J_UP</th><th>J_LOW</th><th>E_UP</th><th>FREQ</th><th>WAVE</th><th>T_ex</th><th>tau_0</th><th>T_RJ</th><th>Pop_u</th><th>Pop_l</th><th>Flux_Kkms</th><th>Flux_ergcm2s</th></tr></thead>\n",
       "<thead><tr><th>str69</th><th>str59</th><th>str2</th><th>float64</th><th>float64</th><th>float64</th><th>float64</th><th>float64</th><th>float64</th><th>float64</th><th>float64</th><th>float64</th><th>float64</th><th>float64</th><th>float64</th><th>float64</th><th>float64</th><th>float64</th><th>float64</th><th>float64</th></tr></thead>\n",
       "<tr><td>calc_T_CMB_2.73_T_kin_25.0_N_CI_5.00e15_n_H2_1.0e3_d_V_10.0_Ju_1_Jl_0</td><td>calc_T_CMB_2.73_T_kin_25.0_N_CI_5.00e15_n_H2_1.0e3_d_V_10.0</td><td>CI</td><td>2.72548</td><td>25.0</td><td>5.000e+15</td><td>1.0e+03</td><td>10.0</td><td>1.0</td><td>0.0</td><td>23.6</td><td>492.1607</td><td>609.1354</td><td>16.55</td><td>0.0041</td><td>0.03</td><td>0.39</td><td>0.54</td><td>0.3245</td><td>4.982e-07</td></tr>\n",
       "<tr><td>calc_T_CMB_2.73_T_kin_25.0_N_CI_8.89e15_n_H2_1.0e3_d_V_10.0_Ju_1_Jl_0</td><td>calc_T_CMB_2.73_T_kin_25.0_N_CI_8.89e15_n_H2_1.0e3_d_V_10.0</td><td>CI</td><td>2.72548</td><td>25.0</td><td>8.891e+15</td><td>1.0e+03</td><td>10.0</td><td>1.0</td><td>0.0</td><td>23.6</td><td>492.1607</td><td>609.1354</td><td>16.55</td><td>0.0073</td><td>0.05</td><td>0.39</td><td>0.54</td><td>0.5762</td><td>8.846e-07</td></tr>\n",
       "<tr><td>calc_T_CMB_2.73_T_kin_25.0_N_CI_1.58e16_n_H2_1.0e3_d_V_10.0_Ju_1_Jl_0</td><td>calc_T_CMB_2.73_T_kin_25.0_N_CI_1.58e16_n_H2_1.0e3_d_V_10.0</td><td>CI</td><td>2.72548</td><td>25.0</td><td>1.581e+16</td><td>1.0e+03</td><td>10.0</td><td>1.0</td><td>0.0</td><td>23.6</td><td>492.1607</td><td>609.1354</td><td>16.55</td><td>0.0130</td><td>0.10</td><td>0.39</td><td>0.54</td><td>1.022</td><td>1.569e-06</td></tr>\n",
       "<tr><td>calc_T_CMB_2.73_T_kin_25.0_N_CI_2.81e16_n_H2_1.0e3_d_V_10.0_Ju_1_Jl_0</td><td>calc_T_CMB_2.73_T_kin_25.0_N_CI_2.81e16_n_H2_1.0e3_d_V_10.0</td><td>CI</td><td>2.72548</td><td>25.0</td><td>2.812e+16</td><td>1.0e+03</td><td>10.0</td><td>1.0</td><td>0.0</td><td>23.6</td><td>492.1607</td><td>609.1354</td><td>16.62</td><td>0.0229</td><td>0.17</td><td>0.39</td><td>0.54</td><td>1.814</td><td>2.785e-06</td></tr>\n",
       "<tr><td>calc_T_CMB_2.73_T_kin_25.0_N_CI_5.00e16_n_H2_1.0e3_d_V_10.0_Ju_1_Jl_0</td><td>calc_T_CMB_2.73_T_kin_25.0_N_CI_5.00e16_n_H2_1.0e3_d_V_10.0</td><td>CI</td><td>2.72548</td><td>25.0</td><td>5.000e+16</td><td>1.0e+03</td><td>10.0</td><td>1.0</td><td>0.0</td><td>23.6</td><td>492.1607</td><td>609.1354</td><td>16.68</td><td>0.0406</td><td>0.30</td><td>0.39</td><td>0.54</td><td>3.207</td><td>4.923e-06</td></tr>\n",
       "<tr><td>calc_T_CMB_2.73_T_kin_25.0_N_CI_8.89e16_n_H2_1.0e3_d_V_10.0_Ju_1_Jl_0</td><td>calc_T_CMB_2.73_T_kin_25.0_N_CI_8.89e16_n_H2_1.0e3_d_V_10.0</td><td>CI</td><td>2.72548</td><td>25.0</td><td>8.891e+16</td><td>1.0e+03</td><td>10.0</td><td>1.0</td><td>0.0</td><td>23.6</td><td>492.1607</td><td>609.1354</td><td>16.77</td><td>0.0718</td><td>0.53</td><td>0.39</td><td>0.54</td><td>5.636</td><td>8.652e-06</td></tr>\n",
       "<tr><td>calc_T_CMB_2.73_T_kin_25.0_N_CI_1.58e17_n_H2_1.0e3_d_V_10.0_Ju_1_Jl_0</td><td>calc_T_CMB_2.73_T_kin_25.0_N_CI_1.58e17_n_H2_1.0e3_d_V_10.0</td><td>CI</td><td>2.72548</td><td>25.0</td><td>1.581e+17</td><td>1.0e+03</td><td>10.0</td><td>1.0</td><td>0.0</td><td>23.6</td><td>492.1607</td><td>609.1354</td><td>16.93</td><td>0.1264</td><td>0.92</td><td>0.40</td><td>0.53</td><td>9.827</td><td>1.509e-05</td></tr>\n",
       "<tr><td>calc_T_CMB_2.73_T_kin_25.0_N_CI_2.81e17_n_H2_1.0e3_d_V_10.0_Ju_1_Jl_0</td><td>calc_T_CMB_2.73_T_kin_25.0_N_CI_2.81e17_n_H2_1.0e3_d_V_10.0</td><td>CI</td><td>2.72548</td><td>25.0</td><td>2.812e+17</td><td>1.0e+03</td><td>10.0</td><td>1.0</td><td>0.0</td><td>23.6</td><td>492.1607</td><td>609.1354</td><td>17.21</td><td>0.2206</td><td>1.59</td><td>0.40</td><td>0.53</td><td>16.89</td><td>2.593e-05</td></tr>\n",
       "<tr><td>calc_T_CMB_2.73_T_kin_25.0_N_CI_5.00e17_n_H2_1.0e3_d_V_10.0_Ju_1_Jl_0</td><td>calc_T_CMB_2.73_T_kin_25.0_N_CI_5.00e17_n_H2_1.0e3_d_V_10.0</td><td>CI</td><td>2.72548</td><td>25.0</td><td>5.000e+17</td><td>1.0e+03</td><td>10.0</td><td>1.0</td><td>0.0</td><td>23.6</td><td>492.1607</td><td>609.1354</td><td>17.66</td><td>0.3809</td><td>2.66</td><td>0.41</td><td>0.52</td><td>28.34</td><td>4.351e-05</td></tr>\n",
       "<tr><td>calc_T_CMB_2.73_T_kin_25.0_N_CI_8.89e17_n_H2_1.0e3_d_V_10.0_Ju_1_Jl_0</td><td>calc_T_CMB_2.73_T_kin_25.0_N_CI_8.89e17_n_H2_1.0e3_d_V_10.0</td><td>CI</td><td>2.72548</td><td>25.0</td><td>8.891e+17</td><td>1.0e+03</td><td>10.0</td><td>1.0</td><td>0.0</td><td>23.6</td><td>492.1607</td><td>609.1354</td><td>18.38</td><td>0.6470</td><td>4.30</td><td>0.42</td><td>0.50</td><td>45.77</td><td>7.027e-05</td></tr>\n",
       "<tr><td>calc_T_CMB_2.73_T_kin_25.0_N_CI_1.58e18_n_H2_1.0e3_d_V_10.0_Ju_1_Jl_0</td><td>calc_T_CMB_2.73_T_kin_25.0_N_CI_1.58e18_n_H2_1.0e3_d_V_10.0</td><td>CI</td><td>2.72548</td><td>25.0</td><td>1.581e+18</td><td>1.0e+03</td><td>10.0</td><td>1.0</td><td>0.0</td><td>23.6</td><td>492.1607</td><td>609.1354</td><td>19.41</td><td>1.0790</td><td>6.55</td><td>0.43</td><td>0.49</td><td>69.76</td><td>0.0001071</td></tr>\n",
       "<tr><td>calc_T_CMB_2.73_T_kin_25.0_N_CI_2.81e18_n_H2_1.0e3_d_V_10.0_Ju_1_Jl_0</td><td>calc_T_CMB_2.73_T_kin_25.0_N_CI_2.81e18_n_H2_1.0e3_d_V_10.0</td><td>CI</td><td>2.72548</td><td>25.0</td><td>2.812e+18</td><td>1.0e+03</td><td>10.0</td><td>1.0</td><td>0.0</td><td>23.6</td><td>492.1607</td><td>609.1354</td><td>20.72</td><td>1.7690</td><td>9.21</td><td>0.44</td><td>0.46</td><td>98.02</td><td>0.0001505</td></tr>\n",
       "<tr><td>...</td><td>...</td><td>...</td><td>...</td><td>...</td><td>...</td><td>...</td><td>...</td><td>...</td><td>...</td><td>...</td><td>...</td><td>...</td><td>...</td><td>...</td><td>...</td><td>...</td><td>...</td><td>...</td><td>...</td></tr>\n",
       "<tr><td>calc_T_CMB_2.73_T_kin_25.0_N_CI_1.11e19_n_H2_1.0e3_d_V_10.0_Ju_1_Jl_0</td><td>calc_T_CMB_2.73_T_kin_25.0_N_CI_1.11e19_n_H2_1.0e3_d_V_10.0</td><td>CI</td><td>2.72548</td><td>25.0</td><td>1.107e+19</td><td>1.0e+03</td><td>10.0</td><td>1.0</td><td>0.0</td><td>23.6</td><td>492.1607</td><td>609.1354</td><td>23.62</td><td>5.8090</td><td>13.70</td><td>0.46</td><td>0.42</td><td>145.9</td><td>0.0002239</td></tr>\n",
       "<tr><td>calc_T_CMB_2.73_T_kin_25.0_N_CI_1.97e19_n_H2_1.0e3_d_V_10.0_Ju_1_Jl_0</td><td>calc_T_CMB_2.73_T_kin_25.0_N_CI_1.97e19_n_H2_1.0e3_d_V_10.0</td><td>CI</td><td>2.72548</td><td>25.0</td><td>1.968e+19</td><td>1.0e+03</td><td>10.0</td><td>1.0</td><td>0.0</td><td>23.6</td><td>492.1607</td><td>609.1354</td><td>24.24</td><td>9.8970</td><td>14.31</td><td>0.46</td><td>0.40</td><td>152.4</td><td>0.0002339</td></tr>\n",
       "<tr><td>calc_T_CMB_2.73_T_kin_25.0_N_CI_3.50e19_n_H2_1.0e3_d_V_10.0_Ju_1_Jl_0</td><td>calc_T_CMB_2.73_T_kin_25.0_N_CI_3.50e19_n_H2_1.0e3_d_V_10.0</td><td>CI</td><td>2.72548</td><td>25.0</td><td>3.500e+19</td><td>1.0e+03</td><td>10.0</td><td>1.0</td><td>0.0</td><td>23.6</td><td>492.1607</td><td>609.1354</td><td>24.65</td><td>17.1000</td><td>14.69</td><td>0.46</td><td>0.40</td><td>156.4</td><td>0.0002401</td></tr>\n",
       "<tr><td>calc_T_CMB_2.73_T_kin_25.0_N_CI_4.00e16_n_H2_1.0e3_d_V_10.0_Ju_1_Jl_0</td><td>calc_T_CMB_2.73_T_kin_25.0_N_CI_4.00e16_n_H2_1.0e3_d_V_10.0</td><td>CI</td><td>2.72548</td><td>25.0</td><td>4.000e+16</td><td>1.0e+03</td><td>10.0</td><td>1.0</td><td>0.0</td><td>23.6</td><td>492.1607</td><td>609.1354</td><td>16.65</td><td>0.0326</td><td>0.24</td><td>0.39</td><td>0.54</td><td>2.572</td><td>3.949e-06</td></tr>\n",
       "<tr><td>calc_T_CMB_2.73_T_kin_25.0_N_CI_7.11e16_n_H2_1.0e3_d_V_10.0_Ju_1_Jl_0</td><td>calc_T_CMB_2.73_T_kin_25.0_N_CI_7.11e16_n_H2_1.0e3_d_V_10.0</td><td>CI</td><td>2.72548</td><td>25.0</td><td>7.113e+16</td><td>1.0e+03</td><td>10.0</td><td>1.0</td><td>0.0</td><td>23.6</td><td>492.1607</td><td>609.1354</td><td>16.73</td><td>0.0576</td><td>0.43</td><td>0.39</td><td>0.54</td><td>4.532</td><td>6.957e-06</td></tr>\n",
       "<tr><td>calc_T_CMB_2.73_T_kin_25.0_N_CI_1.26e17_n_H2_1.0e3_d_V_10.0_Ju_1_Jl_0</td><td>calc_T_CMB_2.73_T_kin_25.0_N_CI_1.26e17_n_H2_1.0e3_d_V_10.0</td><td>CI</td><td>2.72548</td><td>25.0</td><td>1.265e+17</td><td>1.0e+03</td><td>10.0</td><td>1.0</td><td>0.0</td><td>23.6</td><td>492.1607</td><td>609.1354</td><td>16.86</td><td>0.1016</td><td>0.75</td><td>0.39</td><td>0.53</td><td>7.932</td><td>1.218e-05</td></tr>\n",
       "<tr><td>calc_T_CMB_2.73_T_kin_25.0_N_CI_2.25e17_n_H2_1.0e3_d_V_10.0_Ju_1_Jl_0</td><td>calc_T_CMB_2.73_T_kin_25.0_N_CI_2.25e17_n_H2_1.0e3_d_V_10.0</td><td>CI</td><td>2.72548</td><td>25.0</td><td>2.249e+17</td><td>1.0e+03</td><td>10.0</td><td>1.0</td><td>0.0</td><td>23.6</td><td>492.1607</td><td>609.1354</td><td>17.08</td><td>0.1780</td><td>1.29</td><td>0.40</td><td>0.53</td><td>13.72</td><td>2.107e-05</td></tr>\n",
       "<tr><td>calc_T_CMB_2.73_T_kin_25.0_N_CI_4.00e17_n_H2_1.0e3_d_V_10.0_Ju_1_Jl_0</td><td>calc_T_CMB_2.73_T_kin_25.0_N_CI_4.00e17_n_H2_1.0e3_d_V_10.0</td><td>CI</td><td>2.72548</td><td>25.0</td><td>4.000e+17</td><td>1.0e+03</td><td>10.0</td><td>1.0</td><td>0.0</td><td>23.6</td><td>492.1607</td><td>609.1354</td><td>17.46</td><td>0.3087</td><td>2.19</td><td>0.40</td><td>0.52</td><td>23.27</td><td>3.573e-05</td></tr>\n",
       "<tr><td>calc_T_CMB_2.73_T_kin_25.0_N_CI_7.11e17_n_H2_1.0e3_d_V_10.0_Ju_1_Jl_0</td><td>calc_T_CMB_2.73_T_kin_25.0_N_CI_7.11e17_n_H2_1.0e3_d_V_10.0</td><td>CI</td><td>2.72548</td><td>25.0</td><td>7.113e+17</td><td>1.0e+03</td><td>10.0</td><td>1.0</td><td>0.0</td><td>23.6</td><td>492.1607</td><td>609.1354</td><td>18.07</td><td>0.5280</td><td>3.59</td><td>0.41</td><td>0.51</td><td>38.23</td><td>5.869e-05</td></tr>\n",
       "<tr><td>calc_T_CMB_2.73_T_kin_25.0_N_CI_1.26e18_n_H2_1.0e3_d_V_10.0_Ju_1_Jl_0</td><td>calc_T_CMB_2.73_T_kin_25.0_N_CI_1.26e18_n_H2_1.0e3_d_V_10.0</td><td>CI</td><td>2.72548</td><td>25.0</td><td>1.265e+18</td><td>1.0e+03</td><td>10.0</td><td>1.0</td><td>0.0</td><td>23.6</td><td>492.1607</td><td>609.1354</td><td>18.97</td><td>0.8867</td><td>5.61</td><td>0.43</td><td>0.49</td><td>59.74</td><td>9.172e-05</td></tr>\n",
       "<tr><td>calc_T_CMB_2.73_T_kin_25.0_N_CI_2.25e18_n_H2_1.0e3_d_V_10.0_Ju_1_Jl_0</td><td>calc_T_CMB_2.73_T_kin_25.0_N_CI_2.25e18_n_H2_1.0e3_d_V_10.0</td><td>CI</td><td>2.72548</td><td>25.0</td><td>2.249e+18</td><td>1.0e+03</td><td>10.0</td><td>1.0</td><td>0.0</td><td>23.6</td><td>492.1607</td><td>609.1354</td><td>20.18</td><td>1.4620</td><td>8.16</td><td>0.44</td><td>0.47</td><td>86.87</td><td>0.0001334</td></tr>\n",
       "<tr><td>calc_T_CMB_2.73_T_kin_25.0_N_CI_4.00e18_n_H2_1.0e3_d_V_10.0_Ju_1_Jl_0</td><td>calc_T_CMB_2.73_T_kin_25.0_N_CI_4.00e18_n_H2_1.0e3_d_V_10.0</td><td>CI</td><td>2.72548</td><td>25.0</td><td>4.000e+18</td><td>1.0e+03</td><td>10.0</td><td>1.0</td><td>0.0</td><td>23.6</td><td>492.1607</td><td>609.1354</td><td>21.58</td><td>2.3870</td><td>10.79</td><td>0.45</td><td>0.45</td><td>114.9</td><td>0.0001763</td></tr>\n",
       "</table></div>"
      ],
      "text/plain": [
       "<Table length=100>\n",
       "                           calc_name_Ju_Jl                                                     calc_name                          species  T_CMB   T_kin     N_X      n_H2  ...  tau_0    T_RJ   Pop_u   Pop_l  Flux_Kkms Flux_ergcm2s\n",
       "                                str69                                                            str59                              str2  float64 float64  float64  float64 ... float64 float64 float64 float64  float64    float64   \n",
       "--------------------------------------------------------------------- ----------------------------------------------------------- ------- ------- ------- --------- ------- ... ------- ------- ------- ------- --------- ------------\n",
       "calc_T_CMB_2.73_T_kin_25.0_N_CI_5.00e15_n_H2_1.0e3_d_V_10.0_Ju_1_Jl_0 calc_T_CMB_2.73_T_kin_25.0_N_CI_5.00e15_n_H2_1.0e3_d_V_10.0      CI 2.72548    25.0 5.000e+15 1.0e+03 ...  0.0041    0.03    0.39    0.54    0.3245    4.982e-07\n",
       "calc_T_CMB_2.73_T_kin_25.0_N_CI_8.89e15_n_H2_1.0e3_d_V_10.0_Ju_1_Jl_0 calc_T_CMB_2.73_T_kin_25.0_N_CI_8.89e15_n_H2_1.0e3_d_V_10.0      CI 2.72548    25.0 8.891e+15 1.0e+03 ...  0.0073    0.05    0.39    0.54    0.5762    8.846e-07\n",
       "calc_T_CMB_2.73_T_kin_25.0_N_CI_1.58e16_n_H2_1.0e3_d_V_10.0_Ju_1_Jl_0 calc_T_CMB_2.73_T_kin_25.0_N_CI_1.58e16_n_H2_1.0e3_d_V_10.0      CI 2.72548    25.0 1.581e+16 1.0e+03 ...  0.0130    0.10    0.39    0.54     1.022    1.569e-06\n",
       "calc_T_CMB_2.73_T_kin_25.0_N_CI_2.81e16_n_H2_1.0e3_d_V_10.0_Ju_1_Jl_0 calc_T_CMB_2.73_T_kin_25.0_N_CI_2.81e16_n_H2_1.0e3_d_V_10.0      CI 2.72548    25.0 2.812e+16 1.0e+03 ...  0.0229    0.17    0.39    0.54     1.814    2.785e-06\n",
       "calc_T_CMB_2.73_T_kin_25.0_N_CI_5.00e16_n_H2_1.0e3_d_V_10.0_Ju_1_Jl_0 calc_T_CMB_2.73_T_kin_25.0_N_CI_5.00e16_n_H2_1.0e3_d_V_10.0      CI 2.72548    25.0 5.000e+16 1.0e+03 ...  0.0406    0.30    0.39    0.54     3.207    4.923e-06\n",
       "calc_T_CMB_2.73_T_kin_25.0_N_CI_8.89e16_n_H2_1.0e3_d_V_10.0_Ju_1_Jl_0 calc_T_CMB_2.73_T_kin_25.0_N_CI_8.89e16_n_H2_1.0e3_d_V_10.0      CI 2.72548    25.0 8.891e+16 1.0e+03 ...  0.0718    0.53    0.39    0.54     5.636    8.652e-06\n",
       "calc_T_CMB_2.73_T_kin_25.0_N_CI_1.58e17_n_H2_1.0e3_d_V_10.0_Ju_1_Jl_0 calc_T_CMB_2.73_T_kin_25.0_N_CI_1.58e17_n_H2_1.0e3_d_V_10.0      CI 2.72548    25.0 1.581e+17 1.0e+03 ...  0.1264    0.92    0.40    0.53     9.827    1.509e-05\n",
       "calc_T_CMB_2.73_T_kin_25.0_N_CI_2.81e17_n_H2_1.0e3_d_V_10.0_Ju_1_Jl_0 calc_T_CMB_2.73_T_kin_25.0_N_CI_2.81e17_n_H2_1.0e3_d_V_10.0      CI 2.72548    25.0 2.812e+17 1.0e+03 ...  0.2206    1.59    0.40    0.53     16.89    2.593e-05\n",
       "calc_T_CMB_2.73_T_kin_25.0_N_CI_5.00e17_n_H2_1.0e3_d_V_10.0_Ju_1_Jl_0 calc_T_CMB_2.73_T_kin_25.0_N_CI_5.00e17_n_H2_1.0e3_d_V_10.0      CI 2.72548    25.0 5.000e+17 1.0e+03 ...  0.3809    2.66    0.41    0.52     28.34    4.351e-05\n",
       "calc_T_CMB_2.73_T_kin_25.0_N_CI_8.89e17_n_H2_1.0e3_d_V_10.0_Ju_1_Jl_0 calc_T_CMB_2.73_T_kin_25.0_N_CI_8.89e17_n_H2_1.0e3_d_V_10.0      CI 2.72548    25.0 8.891e+17 1.0e+03 ...  0.6470    4.30    0.42    0.50     45.77    7.027e-05\n",
       "calc_T_CMB_2.73_T_kin_25.0_N_CI_1.58e18_n_H2_1.0e3_d_V_10.0_Ju_1_Jl_0 calc_T_CMB_2.73_T_kin_25.0_N_CI_1.58e18_n_H2_1.0e3_d_V_10.0      CI 2.72548    25.0 1.581e+18 1.0e+03 ...  1.0790    6.55    0.43    0.49     69.76    0.0001071\n",
       "calc_T_CMB_2.73_T_kin_25.0_N_CI_2.81e18_n_H2_1.0e3_d_V_10.0_Ju_1_Jl_0 calc_T_CMB_2.73_T_kin_25.0_N_CI_2.81e18_n_H2_1.0e3_d_V_10.0      CI 2.72548    25.0 2.812e+18 1.0e+03 ...  1.7690    9.21    0.44    0.46     98.02    0.0001505\n",
       "                                                                  ...                                                         ...     ...     ...     ...       ...     ... ...     ...     ...     ...     ...       ...          ...\n",
       "calc_T_CMB_2.73_T_kin_25.0_N_CI_1.11e19_n_H2_1.0e3_d_V_10.0_Ju_1_Jl_0 calc_T_CMB_2.73_T_kin_25.0_N_CI_1.11e19_n_H2_1.0e3_d_V_10.0      CI 2.72548    25.0 1.107e+19 1.0e+03 ...  5.8090   13.70    0.46    0.42     145.9    0.0002239\n",
       "calc_T_CMB_2.73_T_kin_25.0_N_CI_1.97e19_n_H2_1.0e3_d_V_10.0_Ju_1_Jl_0 calc_T_CMB_2.73_T_kin_25.0_N_CI_1.97e19_n_H2_1.0e3_d_V_10.0      CI 2.72548    25.0 1.968e+19 1.0e+03 ...  9.8970   14.31    0.46    0.40     152.4    0.0002339\n",
       "calc_T_CMB_2.73_T_kin_25.0_N_CI_3.50e19_n_H2_1.0e3_d_V_10.0_Ju_1_Jl_0 calc_T_CMB_2.73_T_kin_25.0_N_CI_3.50e19_n_H2_1.0e3_d_V_10.0      CI 2.72548    25.0 3.500e+19 1.0e+03 ... 17.1000   14.69    0.46    0.40     156.4    0.0002401\n",
       "calc_T_CMB_2.73_T_kin_25.0_N_CI_4.00e16_n_H2_1.0e3_d_V_10.0_Ju_1_Jl_0 calc_T_CMB_2.73_T_kin_25.0_N_CI_4.00e16_n_H2_1.0e3_d_V_10.0      CI 2.72548    25.0 4.000e+16 1.0e+03 ...  0.0326    0.24    0.39    0.54     2.572    3.949e-06\n",
       "calc_T_CMB_2.73_T_kin_25.0_N_CI_7.11e16_n_H2_1.0e3_d_V_10.0_Ju_1_Jl_0 calc_T_CMB_2.73_T_kin_25.0_N_CI_7.11e16_n_H2_1.0e3_d_V_10.0      CI 2.72548    25.0 7.113e+16 1.0e+03 ...  0.0576    0.43    0.39    0.54     4.532    6.957e-06\n",
       "calc_T_CMB_2.73_T_kin_25.0_N_CI_1.26e17_n_H2_1.0e3_d_V_10.0_Ju_1_Jl_0 calc_T_CMB_2.73_T_kin_25.0_N_CI_1.26e17_n_H2_1.0e3_d_V_10.0      CI 2.72548    25.0 1.265e+17 1.0e+03 ...  0.1016    0.75    0.39    0.53     7.932    1.218e-05\n",
       "calc_T_CMB_2.73_T_kin_25.0_N_CI_2.25e17_n_H2_1.0e3_d_V_10.0_Ju_1_Jl_0 calc_T_CMB_2.73_T_kin_25.0_N_CI_2.25e17_n_H2_1.0e3_d_V_10.0      CI 2.72548    25.0 2.249e+17 1.0e+03 ...  0.1780    1.29    0.40    0.53     13.72    2.107e-05\n",
       "calc_T_CMB_2.73_T_kin_25.0_N_CI_4.00e17_n_H2_1.0e3_d_V_10.0_Ju_1_Jl_0 calc_T_CMB_2.73_T_kin_25.0_N_CI_4.00e17_n_H2_1.0e3_d_V_10.0      CI 2.72548    25.0 4.000e+17 1.0e+03 ...  0.3087    2.19    0.40    0.52     23.27    3.573e-05\n",
       "calc_T_CMB_2.73_T_kin_25.0_N_CI_7.11e17_n_H2_1.0e3_d_V_10.0_Ju_1_Jl_0 calc_T_CMB_2.73_T_kin_25.0_N_CI_7.11e17_n_H2_1.0e3_d_V_10.0      CI 2.72548    25.0 7.113e+17 1.0e+03 ...  0.5280    3.59    0.41    0.51     38.23    5.869e-05\n",
       "calc_T_CMB_2.73_T_kin_25.0_N_CI_1.26e18_n_H2_1.0e3_d_V_10.0_Ju_1_Jl_0 calc_T_CMB_2.73_T_kin_25.0_N_CI_1.26e18_n_H2_1.0e3_d_V_10.0      CI 2.72548    25.0 1.265e+18 1.0e+03 ...  0.8867    5.61    0.43    0.49     59.74    9.172e-05\n",
       "calc_T_CMB_2.73_T_kin_25.0_N_CI_2.25e18_n_H2_1.0e3_d_V_10.0_Ju_1_Jl_0 calc_T_CMB_2.73_T_kin_25.0_N_CI_2.25e18_n_H2_1.0e3_d_V_10.0      CI 2.72548    25.0 2.249e+18 1.0e+03 ...  1.4620    8.16    0.44    0.47     86.87    0.0001334\n",
       "calc_T_CMB_2.73_T_kin_25.0_N_CI_4.00e18_n_H2_1.0e3_d_V_10.0_Ju_1_Jl_0 calc_T_CMB_2.73_T_kin_25.0_N_CI_4.00e18_n_H2_1.0e3_d_V_10.0      CI 2.72548    25.0 4.000e+18 1.0e+03 ...  2.3870   10.79    0.45    0.45     114.9    0.0001763"
      ]
     },
     "execution_count": 29,
     "metadata": {},
     "output_type": "execute_result"
    }
   ],
   "source": [
    "columns = [desc[0] for desc in db_cursor.description]\n",
    "\n",
    "calc_out = OrderedDict([ \n",
    "    ('J_UP',[]), \n",
    "    ('J_LOW',[]), \n",
    "    ('E_UP',[]), \n",
    "    ('FREQ',[]), \n",
    "    ('WAVE',[]), \n",
    "    ('T_ex',[]), \n",
    "    ('tau_0',[]), \n",
    "    ('T_RJ',[]), \n",
    "    ('Pop_u',[]), \n",
    "    ('Pop_l',[]), \n",
    "    ('Flux_Kkms',[]), \n",
    "    ('Flux_ergcm2s',[]), \n",
    "]) # must have the same columns and order as in self.create_table\n",
    "\n",
    "queried_dict = OrderedDict()\n",
    "for i, col in enumerate(columns):\n",
    "    queried_dict[col] = [row[i] for row in queried_rows]\n",
    "\n",
    "queried_table = Table(queried_dict)\n",
    "queried_table['N_X'].format = '%.3e'\n",
    "queried_table['n_H2'].format = '%.1e'\n",
    "queried_table['FREQ'].format = '%.4f'\n",
    "queried_table['WAVE'].format = '%.4f'\n",
    "queried_table['T_ex'].format = '%.2f'\n",
    "queried_table['tau_0'].format = '%.4f'\n",
    "queried_table['T_RJ'].format = '%.2f'\n",
    "queried_table['Pop_u'].format = '%.2f'\n",
    "queried_table['Pop_l'].format = '%.2f'\n",
    "queried_table"
   ]
  },
  {
   "cell_type": "code",
   "execution_count": 6,
   "id": "add5a1d6",
   "metadata": {},
   "outputs": [],
   "source": [
    "db_conn.close()"
   ]
  },
  {
   "cell_type": "code",
   "execution_count": null,
   "id": "d0dceba1",
   "metadata": {},
   "outputs": [],
   "source": []
  },
  {
   "cell_type": "code",
   "execution_count": null,
   "id": "54079258",
   "metadata": {},
   "outputs": [],
   "source": []
  }
 ],
 "metadata": {
  "kernelspec": {
   "display_name": "Python 3 (ipykernel)",
   "language": "python",
   "name": "python3"
  },
  "language_info": {
   "codemirror_mode": {
    "name": "ipython",
    "version": 3
   },
   "file_extension": ".py",
   "mimetype": "text/x-python",
   "name": "python",
   "nbconvert_exporter": "python",
   "pygments_lexer": "ipython3",
   "version": "3.7.11"
  }
 },
 "nbformat": 4,
 "nbformat_minor": 5
}
